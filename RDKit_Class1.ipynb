{
 "cells": [
  {
   "cell_type": "code",
   "execution_count": 1,
   "id": "70d01d86-5c8e-4140-b944-c70e00b26d95",
   "metadata": {},
   "outputs": [],
   "source": [
    "import rdkit"
   ]
  },
  {
   "cell_type": "markdown",
   "id": "3f4aadb6-5a9d-4670-9cbc-ad39ee020bec",
   "metadata": {},
   "source": [
    "* 만일 jupyter에 rdkit이 설치되어 있지 않다면"
   ]
  },
  {
   "cell_type": "code",
   "execution_count": 1,
   "id": "5ae07bfe-bc8d-4072-bccb-33fba38ae3c6",
   "metadata": {
    "tags": []
   },
   "outputs": [
    {
     "name": "stdout",
     "output_type": "stream",
     "text": [
      "Collecting package metadata (current_repodata.json): ...working... done\n",
      "Solving environment: ...working... done\n",
      "\n",
      "# All requested packages already installed.\n",
      "\n"
     ]
    }
   ],
   "source": [
    "!conda install -c conda-forge rdkit -y "
   ]
  },
  {
   "cell_type": "code",
   "execution_count": 2,
   "id": "e41f547d-9081-4b2b-a8e4-f12e61a1ecd7",
   "metadata": {},
   "outputs": [],
   "source": [
    "from rdkit import Chem # rdkit 모듈에서 sub 모듈인 Chem 모듈을 불러오겠다. "
   ]
  },
  {
   "cell_type": "code",
   "execution_count": 3,
   "id": "c26e24d0-b5fd-4468-9b91-8d3b8b6ad824",
   "metadata": {},
   "outputs": [
    {
     "name": "stdout",
     "output_type": "stream",
     "text": [
      "2022.03.3\n"
     ]
    }
   ],
   "source": [
    "print(rdkit.__version__)"
   ]
  },
  {
   "cell_type": "code",
   "execution_count": 4,
   "id": "7c660984-482c-4a24-be82-03d40b29c708",
   "metadata": {},
   "outputs": [],
   "source": [
    "m = Chem.MolFromSmiles('c1c(NC(=O)C)ccc(O)c1') # SMILES에서 분자 읽어들이기. "
   ]
  },
  {
   "cell_type": "code",
   "execution_count": 5,
   "id": "a2d8ebe0-d7d5-445a-98f1-8d90c4663835",
   "metadata": {},
   "outputs": [
    {
     "data": {
      "image/png": "[encoded data removed]",
      "text/plain": [
       "<rdkit.Chem.rdchem.Mol at 0x258f73743a0>"
      ]
     },
     "execution_count": 5,
     "metadata": {},
     "output_type": "execute_result"
    }
   ],
   "source": [
    "m"
   ]
  },
  {
   "cell_type": "code",
   "execution_count": 16,
   "id": "b417e12f-4328-4ffa-b09c-309c51aae4c0",
   "metadata": {},
   "outputs": [],
   "source": [
    "m = Chem.MolFromMolFile(\"./data/input.mol\")"
   ]
  },
  {
   "cell_type": "code",
   "execution_count": 17,
   "id": "d0087e4b-d509-48fb-b431-08f10ed4a506",
   "metadata": {},
   "outputs": [],
   "source": [
    "m2 = Chem.MolFromMolFile(\"./data/input.mol\")"
   ]
  },
  {
   "cell_type": "code",
   "execution_count": 18,
   "id": "5415a4e9-9b02-41ad-9e42-4729aab066a3",
   "metadata": {},
   "outputs": [
    {
     "name": "stdout",
     "output_type": "stream",
     "text": [
      "<rdkit.Chem.rdchem.Mol object at 0x00000258F73A33A0>\n"
     ]
    }
   ],
   "source": [
    "print(m2)"
   ]
  },
  {
   "cell_type": "code",
   "execution_count": 19,
   "id": "22d1fa1e-c597-42ac-ba2f-beee02655504",
   "metadata": {},
   "outputs": [
    {
     "data": {
      "image/png": "[encoded data removed]",
      "text/plain": [
       "<rdkit.Chem.rdchem.Mol at 0x258f73a33a0>"
      ]
     },
     "execution_count": 19,
     "metadata": {},
     "output_type": "execute_result"
    }
   ],
   "source": [
    "m2"
   ]
  },
  {
   "cell_type": "code",
   "execution_count": 20,
   "id": "f0d3bee8-fb38-4203-8e0d-2e3cbde7ba73",
   "metadata": {},
   "outputs": [
    {
     "data": {
      "image/png": "[encoded data removed]",
      "text/plain": [
       "<rdkit.Chem.rdchem.Mol at 0x258f73a3100>"
      ]
     },
     "execution_count": 20,
     "metadata": {},
     "output_type": "execute_result"
    }
   ],
   "source": [
    "m"
   ]
  },
  {
   "cell_type": "code",
   "execution_count": 21,
   "id": "ebeeaf9d-edee-4801-8f91-da119f4b3ef0",
   "metadata": {},
   "outputs": [
    {
     "data": {
      "image/png": "[encoded data removed]",
      "text/plain": [
       "<rdkit.Chem.rdchem.Mol at 0x258f73a33a0>"
      ]
     },
     "execution_count": 21,
     "metadata": {},
     "output_type": "execute_result"
    }
   ],
   "source": [
    "m2"
   ]
  },
  {
   "cell_type": "code",
   "execution_count": 22,
   "id": "c701ccf0-0f70-436e-b31e-b789c2abd199",
   "metadata": {},
   "outputs": [
    {
     "data": {
      "text/plain": [
       "rdkit.Chem.rdchem.Mol"
      ]
     },
     "execution_count": 22,
     "metadata": {},
     "output_type": "execute_result"
    }
   ],
   "source": [
    "type(m)"
   ]
  },
  {
   "cell_type": "code",
   "execution_count": 23,
   "id": "ba94cc6d-4730-405f-8c31-c79995a14bdb",
   "metadata": {},
   "outputs": [
    {
     "data": {
      "text/plain": [
       "rdkit.Chem.rdchem.Mol"
      ]
     },
     "execution_count": 23,
     "metadata": {},
     "output_type": "execute_result"
    }
   ],
   "source": [
    "type(m2)"
   ]
  },
  {
   "cell_type": "code",
   "execution_count": 24,
   "id": "6b0c847a-52fa-4999-8d9d-fc2b6c838c70",
   "metadata": {},
   "outputs": [
    {
     "name": "stdout",
     "output_type": "stream",
     "text": [
      "<rdkit.Chem.rdchem.Mol object at 0x00000258F73A3100>\n"
     ]
    }
   ],
   "source": [
    "print(m)"
   ]
  },
  {
   "cell_type": "code",
   "execution_count": 25,
   "id": "dc964027-3701-4ae9-80a0-86c1a8f4440d",
   "metadata": {},
   "outputs": [
    {
     "name": "stdout",
     "output_type": "stream",
     "text": [
      "<rdkit.Chem.rdchem.Mol object at 0x00000258F73A33A0>\n"
     ]
    }
   ],
   "source": [
    "print(m2)"
   ]
  },
  {
   "cell_type": "code",
   "execution_count": 26,
   "id": "c92b27e4-9cab-43ab-b2a7-15afd1b61bae",
   "metadata": {},
   "outputs": [
    {
     "name": "stderr",
     "output_type": "stream",
     "text": [
      "[23:28:38] Problems encountered parsing Mol data, unexpected blank line found at line 26\n"
     ]
    }
   ],
   "source": [
    "m3 = Chem.MolFromMolFile(\"./data/invalid.mol\")"
   ]
  },
  {
   "cell_type": "code",
   "execution_count": 27,
   "id": "f912ef25-9387-47e9-a93b-1d7b8aee2818",
   "metadata": {},
   "outputs": [],
   "source": [
    "m3"
   ]
  },
  {
   "cell_type": "code",
   "execution_count": 28,
   "id": "0a13cadc-b656-4ce4-9336-320afd16018f",
   "metadata": {},
   "outputs": [
    {
     "data": {
      "text/plain": [
       "True"
      ]
     },
     "execution_count": 28,
     "metadata": {},
     "output_type": "execute_result"
    }
   ],
   "source": [
    "m3 is None"
   ]
  },
  {
   "cell_type": "code",
   "execution_count": 29,
   "id": "066efa69-efeb-49ee-8678-ff230c364812",
   "metadata": {},
   "outputs": [
    {
     "data": {
      "text/plain": [
       "NoneType"
      ]
     },
     "execution_count": 29,
     "metadata": {},
     "output_type": "execute_result"
    }
   ],
   "source": [
    "type(m3)"
   ]
  },
  {
   "cell_type": "code",
   "execution_count": 30,
   "id": "8ce051a0-045f-4a26-8769-a4e8a1ed8e2b",
   "metadata": {},
   "outputs": [
    {
     "name": "stderr",
     "output_type": "stream",
     "text": [
      "[23:32:10] Explicit valence for atom # 1 O, 3, is greater than permitted\n"
     ]
    }
   ],
   "source": [
    "m1 = Chem.MolFromSmiles('CO(C)C')"
   ]
  },
  {
   "cell_type": "code",
   "execution_count": 32,
   "id": "e6ea63d8-4701-429f-b3f2-5ecf82e45ef4",
   "metadata": {},
   "outputs": [],
   "source": [
    "suppl = Chem.SDMolSupplier('data/5ht3ligs.sdf') # SDF file format (Mol File format)의 파일을 읽어들임. "
   ]
  },
  {
   "cell_type": "code",
   "execution_count": 33,
   "id": "c10cf124-f9bf-4690-b1ca-3e5dcbed5179",
   "metadata": {},
   "outputs": [
    {
     "data": {
      "text/plain": [
       "rdkit.Chem.rdmolfiles.SDMolSupplier"
      ]
     },
     "execution_count": 33,
     "metadata": {},
     "output_type": "execute_result"
    }
   ],
   "source": [
    "type(suppl)"
   ]
  },
  {
   "cell_type": "code",
   "execution_count": 34,
   "id": "558c6d98-20c4-4392-a9c3-b7919921e8e6",
   "metadata": {},
   "outputs": [
    {
     "name": "stdout",
     "output_type": "stream",
     "text": [
      "20\n",
      "24\n",
      "24\n",
      "26\n"
     ]
    }
   ],
   "source": [
    "mols = []\n",
    "for mol in suppl:\n",
    "    mols.append(mol)\n",
    "    print(mol.GetNumAtoms()) # 분자 안에 존재하는 원자의 개수. "
   ]
  },
  {
   "cell_type": "code",
   "execution_count": 35,
   "id": "e1ea8411-5b7d-416b-ac37-bc8bcdaeb5c1",
   "metadata": {},
   "outputs": [
    {
     "data": {
      "text/plain": [
       "[<rdkit.Chem.rdchem.Mol at 0x258f8400a00>,\n",
       " <rdkit.Chem.rdchem.Mol at 0x258f8400b20>,\n",
       " <rdkit.Chem.rdchem.Mol at 0x258f8400dc0>,\n",
       " <rdkit.Chem.rdchem.Mol at 0x258f8400ee0>]"
      ]
     },
     "execution_count": 35,
     "metadata": {},
     "output_type": "execute_result"
    }
   ],
   "source": [
    "mols"
   ]
  },
  {
   "cell_type": "code",
   "execution_count": 40,
   "id": "e596e3bc-ec5b-4004-b83c-36a63870e0e1",
   "metadata": {},
   "outputs": [
    {
     "data": {
      "image/png": "[encoded data removed]",
      "text/plain": [
       "<rdkit.Chem.rdchem.Mol at 0x258f8400a00>"
      ]
     },
     "execution_count": 40,
     "metadata": {},
     "output_type": "execute_result"
    }
   ],
   "source": [
    "mols[0]"
   ]
  },
  {
   "cell_type": "code",
   "execution_count": 41,
   "id": "d4f38a6e-5019-4446-9d9b-9844797aca68",
   "metadata": {},
   "outputs": [
    {
     "data": {
      "image/png": "[encoded data removed]",
      "text/plain": [
       "<rdkit.Chem.rdchem.Mol at 0x258f8400b20>"
      ]
     },
     "execution_count": 41,
     "metadata": {},
     "output_type": "execute_result"
    }
   ],
   "source": [
    "mols[1]"
   ]
  },
  {
   "cell_type": "code",
   "execution_count": 38,
   "id": "88fbb5ac-5e72-410e-80cc-c0b78b6d946e",
   "metadata": {},
   "outputs": [
    {
     "data": {
      "image/png": "[encoded data removed]",
      "text/plain": [
       "<rdkit.Chem.rdchem.Mol at 0x258f8400dc0>"
      ]
     },
     "execution_count": 38,
     "metadata": {},
     "output_type": "execute_result"
    }
   ],
   "source": [
    "mols[2]"
   ]
  },
  {
   "cell_type": "code",
   "execution_count": 39,
   "id": "b542abf1-09d2-404b-919e-3423644694e7",
   "metadata": {},
   "outputs": [
    {
     "data": {
      "image/png": "[encoded data removed]",
      "text/plain": [
       "<rdkit.Chem.rdchem.Mol at 0x258f8400ee0>"
      ]
     },
     "execution_count": 39,
     "metadata": {},
     "output_type": "execute_result"
    }
   ],
   "source": [
    "mols[3]"
   ]
  },
  {
   "cell_type": "code",
   "execution_count": 42,
   "id": "eb9176ac-75d5-42b6-9eec-05f6ca3eff38",
   "metadata": {},
   "outputs": [],
   "source": [
    "import gzip # .gz 로 압축되어 있는 경우. .bz2 압축되어 있는 경우에는 import bz2 을 사용해야 함. "
   ]
  },
  {
   "cell_type": "code",
   "execution_count": 43,
   "id": "8bc8ff85-61c4-4867-b5fb-1d09cc50e70b",
   "metadata": {},
   "outputs": [],
   "source": [
    "inf = gzip.open('data/actives_5ht3.sdf.gz', 'rb') # gz 으로 압축된 분자 파일을 읽는다. , \"rb\"를 표시해줘야 binary 파일을 읽는다는 것을 표현. "
   ]
  },
  {
   "cell_type": "code",
   "execution_count": 44,
   "id": "8824f00d-a2e0-4479-bfac-61d8480c7df2",
   "metadata": {},
   "outputs": [],
   "source": [
    "gzsuppl=Chem.ForwardSDMolSupplier(inf)"
   ]
  },
  {
   "cell_type": "code",
   "execution_count": 45,
   "id": "c6cd4dd4-f46b-44f2-98f5-128958985885",
   "metadata": {},
   "outputs": [],
   "source": [
    "all_mols = [m for m in gzsuppl if m is not None]"
   ]
  },
  {
   "cell_type": "code",
   "execution_count": 46,
   "id": "b8b56850-189d-4413-93c5-71a27bcf11a7",
   "metadata": {},
   "outputs": [
    {
     "data": {
      "text/plain": [
       "180"
      ]
     },
     "execution_count": 46,
     "metadata": {},
     "output_type": "execute_result"
    }
   ],
   "source": [
    "len(all_mols)"
   ]
  },
  {
   "cell_type": "code",
   "execution_count": 47,
   "id": "48988749-fb3a-4efd-a247-b83aa2afc812",
   "metadata": {},
   "outputs": [
    {
     "data": {
      "image/png": "[encoded data removed]",
      "text/plain": [
       "<rdkit.Chem.rdchem.Mol at 0x258f73a33a0>"
      ]
     },
     "execution_count": 47,
     "metadata": {},
     "output_type": "execute_result"
    }
   ],
   "source": [
    "m2"
   ]
  },
  {
   "cell_type": "code",
   "execution_count": 48,
   "id": "e185dffa-7751-4e2e-bf93-a9145bd06b26",
   "metadata": {},
   "outputs": [
    {
     "data": {
      "text/plain": [
       "'Cc1cccc2[nH]ccc12'"
      ]
     },
     "execution_count": 48,
     "metadata": {},
     "output_type": "execute_result"
    }
   ],
   "source": [
    "Chem.MolToSmiles(m2) # canonical SMILES 로 내보내게 됨. "
   ]
  },
  {
   "cell_type": "code",
   "execution_count": 49,
   "id": "b5752931-ec73-469a-850b-1b8c5ef77417",
   "metadata": {},
   "outputs": [
    {
     "data": {
      "text/plain": [
       "'c1ccncc1'"
      ]
     },
     "execution_count": 49,
     "metadata": {},
     "output_type": "execute_result"
    }
   ],
   "source": [
    "Chem.MolToSmiles(Chem.MolFromSmiles('C1=CC=CN=C1'))"
   ]
  },
  {
   "cell_type": "code",
   "execution_count": 51,
   "id": "85a38e56-dfef-4a11-b31f-0dce1225f5e9",
   "metadata": {},
   "outputs": [
    {
     "data": {
      "text/plain": [
       "'c1ccncc1'"
      ]
     },
     "execution_count": 51,
     "metadata": {},
     "output_type": "execute_result"
    }
   ],
   "source": [
    "Chem.MolToSmiles(Chem.MolFromSmiles('c1cccnc1'))"
   ]
  },
  {
   "cell_type": "code",
   "execution_count": 52,
   "id": "bde20e7b-6ae2-4555-83b5-f156fd9a358f",
   "metadata": {},
   "outputs": [
    {
     "data": {
      "text/plain": [
       "'c1ccncc1'"
      ]
     },
     "execution_count": 52,
     "metadata": {},
     "output_type": "execute_result"
    }
   ],
   "source": [
    "Chem.MolToSmiles(Chem.MolFromSmiles('n1ccccc1'))"
   ]
  },
  {
   "cell_type": "code",
   "execution_count": 53,
   "id": "eaff4689-7935-4339-8bf4-4996847e4c83",
   "metadata": {},
   "outputs": [],
   "source": [
    "m = Chem.MolFromSmiles('n1ccccc1')"
   ]
  },
  {
   "cell_type": "code",
   "execution_count": 54,
   "id": "f0b71dca-dcd8-49b3-8083-6b4c94356169",
   "metadata": {},
   "outputs": [],
   "source": [
    "Chem.Kekulize(m)"
   ]
  },
  {
   "cell_type": "code",
   "execution_count": 43,
   "id": "ebc8be7c-178d-4bc4-92f2-ce423894851b",
   "metadata": {},
   "outputs": [
    {
     "data": {
      "text/plain": [
       "'C1=CC=NC=C1'"
      ]
     },
     "execution_count": 43,
     "metadata": {},
     "output_type": "execute_result"
    }
   ],
   "source": [
    "Chem.MolToSmiles(m, kekuleSmiles=True) # Kekule form으로 SMILES를 출력하게 됨. "
   ]
  },
  {
   "cell_type": "code",
   "execution_count": 44,
   "id": "62bf713a-4f67-4bd0-8f8d-c2735780a22d",
   "metadata": {},
   "outputs": [],
   "source": [
    "Chem.MolToMolFile(m, \"test.mol\")"
   ]
  },
  {
   "cell_type": "code",
   "execution_count": 45,
   "id": "489d1fd7-d552-4578-9b11-166748813dec",
   "metadata": {},
   "outputs": [],
   "source": [
    "Chem.MolToPDBFile(m, \"test.pdb\")"
   ]
  },
  {
   "cell_type": "markdown",
   "id": "3560655c-1def-4a68-9100-30605c04246d",
   "metadata": {},
   "source": [
    "* Mol-type 변수가 가지고 있는 method와 attribute를 확인"
   ]
  },
  {
   "cell_type": "code",
   "execution_count": 46,
   "id": "30f2d1a2-93b3-4116-ac8b-35de785229bf",
   "metadata": {},
   "outputs": [
    {
     "data": {
      "text/plain": [
       "['AddConformer',\n",
       " 'ClearComputedProps',\n",
       " 'ClearProp',\n",
       " 'Debug',\n",
       " 'GetAromaticAtoms',\n",
       " 'GetAtomWithIdx',\n",
       " 'GetAtoms',\n",
       " 'GetAtomsMatchingQuery',\n",
       " 'GetBondBetweenAtoms',\n",
       " 'GetBondWithIdx',\n",
       " 'GetBonds',\n",
       " 'GetBoolProp',\n",
       " 'GetConformer',\n",
       " 'GetConformers',\n",
       " 'GetDoubleProp',\n",
       " 'GetIntProp',\n",
       " 'GetNumAtoms',\n",
       " 'GetNumBonds',\n",
       " 'GetNumConformers',\n",
       " 'GetNumHeavyAtoms',\n",
       " 'GetProp',\n",
       " 'GetPropNames',\n",
       " 'GetPropsAsDict',\n",
       " 'GetRingInfo',\n",
       " 'GetStereoGroups',\n",
       " 'GetSubstructMatch',\n",
       " 'GetSubstructMatches',\n",
       " 'GetUnsignedProp',\n",
       " 'HasProp',\n",
       " 'HasSubstructMatch',\n",
       " 'NeedsUpdatePropertyCache',\n",
       " 'RemoveAllConformers',\n",
       " 'RemoveConformer',\n",
       " 'SetBoolProp',\n",
       " 'SetDoubleProp',\n",
       " 'SetIntProp',\n",
       " 'SetProp',\n",
       " 'SetUnsignedProp',\n",
       " 'ToBinary',\n",
       " 'UpdatePropertyCache',\n",
       " '__DebugMol',\n",
       " '__GetSubstructMatch',\n",
       " '__GetSubstructMatches',\n",
       " '__class__',\n",
       " '__copy__',\n",
       " '__deepcopy__',\n",
       " '__delattr__',\n",
       " '__dict__',\n",
       " '__dir__',\n",
       " '__doc__',\n",
       " '__eq__',\n",
       " '__format__',\n",
       " '__ge__',\n",
       " '__getattribute__',\n",
       " '__getinitargs__',\n",
       " '__gt__',\n",
       " '__hash__',\n",
       " '__init__',\n",
       " '__init_subclass__',\n",
       " '__instance_size__',\n",
       " '__le__',\n",
       " '__lt__',\n",
       " '__module__',\n",
       " '__ne__',\n",
       " '__new__',\n",
       " '__reduce__',\n",
       " '__reduce_ex__',\n",
       " '__repr__',\n",
       " '__safe_for_unpickling__',\n",
       " '__setattr__',\n",
       " '__sizeof__',\n",
       " '__str__',\n",
       " '__subclasshook__',\n",
       " '__weakref__',\n",
       " '_repr_png_',\n",
       " '_repr_svg_']"
      ]
     },
     "execution_count": 46,
     "metadata": {},
     "output_type": "execute_result"
    }
   ],
   "source": [
    "dir(m)"
   ]
  },
  {
   "cell_type": "code",
   "execution_count": 47,
   "id": "4c251dd7-0c5e-4b28-8222-ff713b1da3de",
   "metadata": {},
   "outputs": [
    {
     "data": {
      "image/png": "[encoded data removed]",
      "text/plain": [
       "<rdkit.Chem.rdchem.Mol at 0x16765fdc0>"
      ]
     },
     "execution_count": 47,
     "metadata": {},
     "output_type": "execute_result"
    }
   ],
   "source": [
    "m"
   ]
  },
  {
   "cell_type": "code",
   "execution_count": 48,
   "id": "6e01e783-a66d-445e-be19-2532225942d7",
   "metadata": {},
   "outputs": [],
   "source": [
    "m.SetProp(\"_Name\", \"my_molecule\")"
   ]
  },
  {
   "cell_type": "code",
   "execution_count": 49,
   "id": "dac60ce3-1ff6-4c30-b806-b9764e724e14",
   "metadata": {
    "tags": []
   },
   "outputs": [
    {
     "data": {
      "text/plain": [
       "['AddConformer',\n",
       " 'ClearComputedProps',\n",
       " 'ClearProp',\n",
       " 'Debug',\n",
       " 'GetAromaticAtoms',\n",
       " 'GetAtomWithIdx',\n",
       " 'GetAtoms',\n",
       " 'GetAtomsMatchingQuery',\n",
       " 'GetBondBetweenAtoms',\n",
       " 'GetBondWithIdx',\n",
       " 'GetBonds',\n",
       " 'GetBoolProp',\n",
       " 'GetConformer',\n",
       " 'GetConformers',\n",
       " 'GetDoubleProp',\n",
       " 'GetIntProp',\n",
       " 'GetNumAtoms',\n",
       " 'GetNumBonds',\n",
       " 'GetNumConformers',\n",
       " 'GetNumHeavyAtoms',\n",
       " 'GetProp',\n",
       " 'GetPropNames',\n",
       " 'GetPropsAsDict',\n",
       " 'GetRingInfo',\n",
       " 'GetStereoGroups',\n",
       " 'GetSubstructMatch',\n",
       " 'GetSubstructMatches',\n",
       " 'GetUnsignedProp',\n",
       " 'HasProp',\n",
       " 'HasSubstructMatch',\n",
       " 'NeedsUpdatePropertyCache',\n",
       " 'RemoveAllConformers',\n",
       " 'RemoveConformer',\n",
       " 'SetBoolProp',\n",
       " 'SetDoubleProp',\n",
       " 'SetIntProp',\n",
       " 'SetProp',\n",
       " 'SetUnsignedProp',\n",
       " 'ToBinary',\n",
       " 'UpdatePropertyCache',\n",
       " '__DebugMol',\n",
       " '__GetSubstructMatch',\n",
       " '__GetSubstructMatches',\n",
       " '__class__',\n",
       " '__copy__',\n",
       " '__deepcopy__',\n",
       " '__delattr__',\n",
       " '__dict__',\n",
       " '__dir__',\n",
       " '__doc__',\n",
       " '__eq__',\n",
       " '__format__',\n",
       " '__ge__',\n",
       " '__getattribute__',\n",
       " '__getinitargs__',\n",
       " '__gt__',\n",
       " '__hash__',\n",
       " '__init__',\n",
       " '__init_subclass__',\n",
       " '__instance_size__',\n",
       " '__le__',\n",
       " '__lt__',\n",
       " '__module__',\n",
       " '__ne__',\n",
       " '__new__',\n",
       " '__reduce__',\n",
       " '__reduce_ex__',\n",
       " '__repr__',\n",
       " '__safe_for_unpickling__',\n",
       " '__setattr__',\n",
       " '__sizeof__',\n",
       " '__str__',\n",
       " '__subclasshook__',\n",
       " '__weakref__',\n",
       " '_repr_png_',\n",
       " '_repr_svg_']"
      ]
     },
     "execution_count": 49,
     "metadata": {},
     "output_type": "execute_result"
    }
   ],
   "source": [
    "dir(m)"
   ]
  },
  {
   "cell_type": "code",
   "execution_count": 50,
   "id": "532d484f-b1c1-4279-a94a-e50f0f80ad41",
   "metadata": {},
   "outputs": [
    {
     "name": "stdout",
     "output_type": "stream",
     "text": [
      "my_molecule\n",
      "     RDKit          2D\n",
      "\n",
      "  6  6  0  0  0  0  0  0  0  0999 V2000\n",
      "    1.5000    0.0000    0.0000 N   0  0  0  0  0  0  0  0  0  0  0  0\n",
      "    0.7500   -1.2990    0.0000 C   0  0  0  0  0  0  0  0  0  0  0  0\n",
      "   -0.7500   -1.2990    0.0000 C   0  0  0  0  0  0  0  0  0  0  0  0\n",
      "   -1.5000    0.0000    0.0000 C   0  0  0  0  0  0  0  0  0  0  0  0\n",
      "   -0.7500    1.2990    0.0000 C   0  0  0  0  0  0  0  0  0  0  0  0\n",
      "    0.7500    1.2990    0.0000 C   0  0  0  0  0  0  0  0  0  0  0  0\n",
      "  1  2  2  0\n",
      "  2  3  1  0\n",
      "  3  4  2  0\n",
      "  4  5  1  0\n",
      "  5  6  2  0\n",
      "  6  1  1  0\n",
      "M  END\n",
      "\n"
     ]
    }
   ],
   "source": [
    "print(Chem.MolToMolBlock(m))"
   ]
  },
  {
   "cell_type": "code",
   "execution_count": null,
   "id": "c0f460f1-6bb9-430b-9920-b35acd3a8f45",
   "metadata": {},
   "outputs": [],
   "source": []
  }
 ],
 "metadata": {
  "kernelspec": {
   "display_name": "Python 3",
   "language": "python",
   "name": "python3"
  },
  "language_info": {
   "codemirror_mode": {
    "name": "ipython",
    "version": 3
   },
   "file_extension": ".py",
   "mimetype": "text/x-python",
   "name": "python",
   "nbconvert_exporter": "python",
   "pygments_lexer": "ipython3",
   "version": "3.8.8"
  }
 },
 "nbformat": 4,
 "nbformat_minor": 5
}
