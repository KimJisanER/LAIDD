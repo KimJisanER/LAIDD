{
 "cells": [
  {
   "cell_type": "code",
   "execution_count": 1,
   "id": "4f1aaeba-adb5-453a-985c-54f68609e909",
   "metadata": {},
   "outputs": [],
   "source": [
    "import rdkit"
   ]
  },
  {
   "cell_type": "code",
   "execution_count": 2,
   "id": "2bf00e2b-bae5-4dbe-8b86-9be212a69653",
   "metadata": {},
   "outputs": [],
   "source": [
    "from rdkit import Chem\n",
    "from rdkit.Chem import AllChem"
   ]
  },
  {
   "cell_type": "markdown",
   "id": "61725b6d-f80a-49ed-98ea-3d594fe7f5de",
   "metadata": {
    "tags": []
   },
   "source": [
    "## Anaconda를 이용해서 scikit-learn 설치하기"
   ]
  },
  {
   "cell_type": "markdown",
   "id": "23fa88fa-6812-4bd6-b795-69cbbcdd91b5",
   "metadata": {},
   "source": [
    "* -y 옵션의 경우에는 무조건 yes! 설치를 하라는 뜻임. "
   ]
  },
  {
   "cell_type": "code",
   "execution_count": 3,
   "id": "99e7fd31-c73d-41ac-bea8-01fc80494cc2",
   "metadata": {},
   "outputs": [],
   "source": [
    "#!conda install -c conda-forge scikit-learn -y "
   ]
  },
  {
   "cell_type": "code",
   "execution_count": 4,
   "id": "3a0fde17-ed5a-496a-8708-58adc26e8c17",
   "metadata": {},
   "outputs": [],
   "source": [
    "from rdkit import DataStructs\n",
    "from rdkit.Chem import MolFromSmiles\n",
    "from rdkit.Chem.GraphDescriptors import (BalabanJ, BertzCT, Chi0, Chi0n, Chi0v, Chi1,\n",
    "                                         Chi1n, Chi1v, Chi2n, Chi2v, Chi3n, Chi3v, Chi4n, Chi4v,\n",
    "                                         HallKierAlpha, Ipc, Kappa1, Kappa2, Kappa3)\n",
    "\n",
    "from rdkit.Chem.EState.EState_VSA import (EState_VSA1, EState_VSA10, EState_VSA11, EState_VSA2, EState_VSA3,\n",
    "                                          EState_VSA4, EState_VSA5, EState_VSA6, EState_VSA7, EState_VSA8, EState_VSA9,\n",
    "                                          VSA_EState1, VSA_EState10, VSA_EState2, VSA_EState3, VSA_EState4, VSA_EState5,\n",
    "                                          VSA_EState6, VSA_EState7, VSA_EState8, VSA_EState9,)\n",
    "\n",
    "from rdkit.Chem.Descriptors import (ExactMolWt, MolWt, HeavyAtomMolWt, MaxAbsPartialCharge, MinPartialCharge,\n",
    "                                    MaxPartialCharge, MinAbsPartialCharge, NumRadicalElectrons, NumValenceElectrons)\n",
    "\n",
    "from rdkit.Chem.EState.EState import (MaxAbsEStateIndex, MaxEStateIndex, MinAbsEStateIndex, MinEStateIndex,)\n",
    "\n",
    "from rdkit.Chem.Lipinski import (FractionCSP3, HeavyAtomCount, NHOHCount, NOCount, NumAliphaticCarbocycles,\n",
    "                                 NumAliphaticHeterocycles, NumAliphaticRings, NumAromaticCarbocycles, NumAromaticHeterocycles,\n",
    "                                 NumAromaticRings, NumHAcceptors, NumHDonors, NumHeteroatoms, RingCount,\n",
    "                                 NumRotatableBonds, NumSaturatedCarbocycles, NumSaturatedHeterocycles, NumSaturatedRings,)\n",
    "\n",
    "from rdkit.Chem.Crippen import (MolLogP, MolMR, )\n",
    "\n",
    "from rdkit.Chem.MolSurf import (LabuteASA, PEOE_VSA1, PEOE_VSA10, PEOE_VSA11, PEOE_VSA12, PEOE_VSA13, PEOE_VSA14,\n",
    "                                PEOE_VSA2, PEOE_VSA3,PEOE_VSA4, PEOE_VSA5, PEOE_VSA6, PEOE_VSA7, PEOE_VSA8, PEOE_VSA9,\n",
    "                                SMR_VSA1, SMR_VSA10, SMR_VSA2, SMR_VSA3, SMR_VSA4, SMR_VSA5, SMR_VSA6,\n",
    "                                SMR_VSA7, SMR_VSA8, SMR_VSA9, SlogP_VSA1, SlogP_VSA10, SlogP_VSA11, SlogP_VSA12,\n",
    "                                SlogP_VSA2, SlogP_VSA3,SlogP_VSA4, SlogP_VSA5, SlogP_VSA6, SlogP_VSA7, SlogP_VSA8,\n",
    "                                SlogP_VSA9, TPSA, )\n",
    "\n",
    "from rdkit.Chem.Fragments import (fr_Al_COO, fr_Al_OH, fr_Al_OH_noTert, fr_ArN, fr_Ar_COO, fr_Ar_N, fr_Ar_NH,\n",
    " fr_Ar_OH, fr_COO, fr_COO2, fr_C_O, fr_C_O_noCOO, fr_C_S, fr_HOCCN, fr_Imine, fr_NH0, fr_NH1,\n",
    " fr_NH2, fr_N_O, fr_Ndealkylation1, fr_Ndealkylation2, fr_Nhpyrrole, fr_SH, fr_aldehyde, fr_alkyl_carbamate,\n",
    " fr_alkyl_halide, fr_allylic_oxid, fr_amide, fr_amidine, fr_aniline, fr_aryl_methyl, fr_azide, fr_azo, fr_barbitur,\n",
    " fr_benzene, fr_benzodiazepine, fr_bicyclic, fr_diazo, fr_dihydropyridine, fr_epoxide, fr_ester, fr_ether, fr_furan,\n",
    " fr_guanido, fr_halogen, fr_hdrzine, fr_hdrzone, fr_imidazole, fr_imide, fr_isocyan, fr_isothiocyan, fr_ketone,\n",
    " fr_ketone_Topliss, fr_lactam, fr_lactone, fr_methoxy, fr_morpholine, fr_nitrile, fr_nitro, fr_nitro_arom,\n",
    " fr_nitro_arom_nonortho, fr_nitroso, fr_oxazole, fr_oxime, fr_para_hydroxylation, fr_phenol,\n",
    " fr_phenol_noOrthoHbond, fr_phos_acid, fr_phos_ester, fr_piperdine, fr_piperzine, fr_priamide, fr_prisulfonamd,\n",
    " fr_pyridine, fr_quatN, fr_sulfide, fr_sulfonamd, fr_sulfone, fr_term_acetylene, fr_tetrazole, fr_thiazole, fr_thiocyan,\n",
    " fr_thiophene, fr_unbrch_alkane, fr_urea)\n",
    "\n",
    "# Descriptor 계산 수행 함수. \n",
    "def calc_descriptors(mol):\n",
    "    if mol is None:\n",
    "        print(\"Molecule is None!\")\n",
    "        return None\n",
    "    else:\n",
    "        AllChem.ComputeGasteigerCharges(mol)\n",
    "        finger = [\n",
    "            BalabanJ(mol) , # 0\n",
    "            BertzCT(mol) , # 1\n",
    "            Chi0(mol) , # 2\n",
    "            Chi0n(mol) , # 3\n",
    "            Chi0v(mol) , # 4\n",
    "            Chi1(mol) , # 5\n",
    "            Chi1n(mol) , # 6\n",
    "            Chi1v(mol) , # 7\n",
    "            Chi2n(mol) ,\n",
    "            Chi2v(mol) ,\n",
    "            Chi3n(mol) ,\n",
    "            Chi3v(mol) ,\n",
    "            Chi4n(mol) ,\n",
    "            Chi4v(mol) ,\n",
    "            EState_VSA1(mol) ,\n",
    "            EState_VSA10(mol) ,\n",
    "            EState_VSA11(mol) ,\n",
    "            EState_VSA2(mol) ,\n",
    "            EState_VSA3(mol) ,\n",
    "            EState_VSA4(mol) ,\n",
    "            EState_VSA5(mol) ,\n",
    "            EState_VSA6(mol) ,\n",
    "            EState_VSA7(mol) ,\n",
    "            EState_VSA8(mol) ,\n",
    "                EState_VSA9(mol) ,\n",
    "                ExactMolWt(mol) ,\n",
    "                FractionCSP3(mol) ,\n",
    "                HallKierAlpha(mol) ,\n",
    "                HeavyAtomCount(mol) ,\n",
    "                HeavyAtomMolWt(mol) ,\n",
    "                # Ipc(mol) ,\n",
    "                Kappa1(mol) ,\n",
    "                Kappa2(mol) ,\n",
    "                Kappa3(mol) ,\n",
    "                LabuteASA(mol) ,\n",
    "                MaxAbsEStateIndex(mol) ,\n",
    "                MaxAbsPartialCharge(mol) ,\n",
    "                MaxEStateIndex(mol) ,\n",
    "                MaxPartialCharge(mol) ,\n",
    "                MinAbsEStateIndex(mol) ,\n",
    "                MinAbsPartialCharge(mol) ,\n",
    "                MinEStateIndex(mol) ,\n",
    "                MinPartialCharge(mol) ,\n",
    "                MolLogP(mol) ,\n",
    "                MolMR(mol) ,\n",
    "                MolWt(mol) ,\n",
    "                NHOHCount(mol) ,\n",
    "                NOCount(mol) ,\n",
    "                NumAliphaticCarbocycles(mol) ,\n",
    "                NumAliphaticHeterocycles(mol) ,\n",
    "                NumAliphaticRings(mol) ,\n",
    "                NumAromaticCarbocycles(mol) ,\n",
    "                NumAromaticHeterocycles(mol) ,\n",
    "                NumAromaticRings(mol) ,\n",
    "                NumHAcceptors(mol) ,\n",
    "                NumHDonors(mol) ,\n",
    "                NumHeteroatoms(mol) ,\n",
    "                NumRadicalElectrons(mol) ,\n",
    "                NumRotatableBonds(mol) ,\n",
    "                NumSaturatedCarbocycles(mol) ,\n",
    "                NumSaturatedHeterocycles(mol) ,\n",
    "                NumSaturatedRings(mol) ,\n",
    "                NumValenceElectrons(mol) ,\n",
    "                PEOE_VSA1(mol) ,\n",
    "                PEOE_VSA10(mol) ,\n",
    "                PEOE_VSA11(mol) ,\n",
    "                PEOE_VSA12(mol) ,\n",
    "                PEOE_VSA13(mol) ,\n",
    "                PEOE_VSA14(mol) ,\n",
    "                PEOE_VSA2(mol) ,\n",
    "                PEOE_VSA3(mol) ,\n",
    "                PEOE_VSA4(mol) ,\n",
    "                PEOE_VSA5(mol) ,\n",
    "                PEOE_VSA6(mol) ,\n",
    "                PEOE_VSA7(mol) ,\n",
    "                PEOE_VSA8(mol) ,\n",
    "                PEOE_VSA9(mol) ,\n",
    "                RingCount(mol) ,\n",
    "                SMR_VSA1(mol) ,\n",
    "                SMR_VSA10(mol) ,\n",
    "                SMR_VSA2(mol) ,\n",
    "                SMR_VSA3(mol) ,\n",
    "                SMR_VSA4(mol) ,\n",
    "                SMR_VSA5(mol) ,\n",
    "                SMR_VSA6(mol) ,\n",
    "                SMR_VSA7(mol) ,\n",
    "                SMR_VSA8(mol) ,\n",
    "                SMR_VSA9(mol) ,\n",
    "                SlogP_VSA1(mol) ,\n",
    "                SlogP_VSA10(mol) ,\n",
    "                SlogP_VSA11(mol) ,\n",
    "                SlogP_VSA12(mol) ,\n",
    "                SlogP_VSA2(mol) ,\n",
    "                SlogP_VSA3(mol) ,\n",
    "                SlogP_VSA4(mol) ,\n",
    "                SlogP_VSA5(mol) ,\n",
    "                SlogP_VSA6(mol) ,\n",
    "                SlogP_VSA7(mol) ,\n",
    "                SlogP_VSA8(mol) ,\n",
    "                SlogP_VSA9(mol) ,\n",
    "                TPSA(mol) ,\n",
    "                VSA_EState1(mol) ,\n",
    "                VSA_EState10(mol) ,\n",
    "                VSA_EState2(mol) ,\n",
    "                VSA_EState3(mol) ,\n",
    "                VSA_EState4(mol) ,\n",
    "                VSA_EState5(mol) ,\n",
    "                VSA_EState6(mol) ,\n",
    "                VSA_EState7(mol) ,\n",
    "                VSA_EState8(mol) ,\n",
    "                VSA_EState9(mol) ,\n",
    "                fr_Al_COO(mol) ,\n",
    "                fr_Al_OH(mol) ,\n",
    "                fr_Al_OH_noTert(mol) ,\n",
    "                fr_ArN(mol) ,\n",
    "                fr_Ar_COO(mol) ,\n",
    "                fr_Ar_N(mol) ,\n",
    "                fr_Ar_NH(mol) ,\n",
    "                fr_Ar_OH(mol) ,\n",
    "                fr_COO(mol) ,\n",
    "                fr_COO2(mol) ,\n",
    "                fr_C_O(mol) ,\n",
    "                fr_C_O_noCOO(mol) ,\n",
    "                fr_C_S(mol) ,\n",
    "                fr_HOCCN(mol) ,\n",
    "                fr_Imine(mol) ,\n",
    "                fr_NH0(mol) ,\n",
    "                fr_NH1(mol) ,\n",
    "                fr_NH2(mol) ,\n",
    "                fr_N_O(mol) ,\n",
    "                fr_Ndealkylation1(mol) ,\n",
    "                fr_Ndealkylation2(mol) ,\n",
    "                fr_Nhpyrrole(mol) ,\n",
    "                fr_SH(mol) ,\n",
    "                fr_aldehyde(mol) ,\n",
    "                fr_alkyl_carbamate(mol) ,\n",
    "                fr_alkyl_halide(mol) ,\n",
    "                fr_allylic_oxid(mol) ,\n",
    "                fr_amide(mol) ,\n",
    "                fr_amidine(mol) ,\n",
    "                fr_aniline(mol) ,\n",
    "                fr_aryl_methyl(mol) ,\n",
    "                fr_azide(mol) ,\n",
    "                fr_azo(mol) ,\n",
    "                fr_barbitur(mol) ,\n",
    "                fr_benzene(mol) ,\n",
    "                fr_benzodiazepine(mol) ,\n",
    "                fr_bicyclic(mol) ,\n",
    "                fr_diazo(mol) ,\n",
    "                fr_dihydropyridine(mol) ,\n",
    "                fr_epoxide(mol) ,\n",
    "                fr_ester(mol) ,\n",
    "                fr_ether(mol) ,\n",
    "                fr_furan(mol) ,\n",
    "                fr_guanido(mol) ,\n",
    "                fr_halogen(mol) ,\n",
    "                fr_hdrzine(mol) ,\n",
    "                fr_hdrzone(mol) ,\n",
    "                fr_imidazole(mol) ,\n",
    "                fr_imide(mol) ,\n",
    "                fr_isocyan(mol) ,\n",
    "                fr_isothiocyan(mol) ,\n",
    "                fr_ketone(mol) ,\n",
    "                fr_ketone_Topliss(mol) ,\n",
    "                fr_lactam(mol) ,\n",
    "                fr_lactone(mol) ,\n",
    "                fr_methoxy(mol) ,\n",
    "                fr_morpholine(mol) ,\n",
    "                fr_nitrile(mol) ,\n",
    "                fr_nitro(mol) ,\n",
    "                fr_nitro_arom(mol) ,\n",
    "                fr_nitro_arom_nonortho(mol) ,\n",
    "                fr_nitroso(mol) ,\n",
    "                fr_oxazole(mol) ,\n",
    "                fr_oxime(mol) ,\n",
    "                fr_para_hydroxylation(mol) ,\n",
    "                fr_phenol(mol) ,\n",
    "                fr_phenol_noOrthoHbond(mol) ,\n",
    "                fr_phos_acid(mol) ,\n",
    "                fr_phos_ester(mol) ,\n",
    "                fr_piperdine(mol) ,\n",
    "                fr_piperzine(mol) ,\n",
    "                fr_priamide(mol) ,\n",
    "                fr_prisulfonamd(mol) ,\n",
    "                fr_pyridine(mol) ,\n",
    "                fr_quatN(mol) ,\n",
    "                fr_sulfide(mol) ,\n",
    "                fr_sulfonamd(mol) ,\n",
    "                fr_sulfone(mol) ,\n",
    "                fr_term_acetylene(mol) ,\n",
    "                fr_tetrazole(mol) ,\n",
    "                fr_thiazole(mol) ,\n",
    "                fr_thiocyan(mol) ,\n",
    "                fr_thiophene(mol),\n",
    "                fr_unbrch_alkane(mol) ,\n",
    "                fr_urea(mol) , #rdkit properties # 196\n",
    "                ]\n",
    "        return finger"
   ]
  },
  {
   "cell_type": "markdown",
   "id": "5cc15e39-ae28-40c0-897c-0ac05508545a",
   "metadata": {},
   "source": [
    "## JAK2 단백질의 Protein Assay 결과를 예측하는 Random Forest 모델 만들기. "
   ]
  },
  {
   "cell_type": "markdown",
   "id": "dd130964-f6c8-48b0-b929-767901415399",
   "metadata": {},
   "source": [
    "### Data 를 다루기에 좋은 Pandas package가 있음. "
   ]
  },
  {
   "cell_type": "markdown",
   "id": "fc4b576d-8819-4c80-8732-81dce069f7bb",
   "metadata": {},
   "source": [
    "### 파일을 읽어들이기 "
   ]
  },
  {
   "cell_type": "code",
   "execution_count": 5,
   "id": "4a359041-b826-4724-b003-48c7389f2dfe",
   "metadata": {},
   "outputs": [],
   "source": [
    "smiles_list = []\n",
    "pic50_list = []\n",
    "with open(\"jak2_data.csv\") as fp:\n",
    "    for l in fp.readlines()[1:]: # 두번째 부터 읽어들임. \n",
    "        smiles, pic50 = l.strip().split(',')\n",
    "        pic50 = float(pic50) # 실수로 변환. \n",
    "        smiles_list.append(smiles)\n",
    "        pic50_list.append(pic50)\n",
    "        "
   ]
  },
  {
   "cell_type": "code",
   "execution_count": 6,
   "id": "d82351a0-3fc8-4a0b-a642-fabc7433a8c1",
   "metadata": {},
   "outputs": [
    {
     "data": {
      "text/plain": [
       "1911"
      ]
     },
     "execution_count": 6,
     "metadata": {},
     "output_type": "execute_result"
    }
   ],
   "source": [
    "len(smiles_list)"
   ]
  },
  {
   "cell_type": "code",
   "execution_count": 7,
   "id": "9377f122-1b53-4be6-b34e-5d678462d574",
   "metadata": {},
   "outputs": [
    {
     "data": {
      "text/plain": [
       "1911"
      ]
     },
     "execution_count": 7,
     "metadata": {},
     "output_type": "execute_result"
    }
   ],
   "source": [
    "len(pic50_list)"
   ]
  },
  {
   "cell_type": "code",
   "execution_count": 8,
   "id": "5fcfc11f-3695-46c5-9c16-a2ab6af121c9",
   "metadata": {},
   "outputs": [
    {
     "data": {
      "text/plain": [
       "['O=S(=O)(Nc1cccc(-c2cnc3ccccc3n2)c1)c1cccs1',\n",
       " 'O=c1cc(-c2nc(-c3ccc(-c4cn(CCP(=O)(O)O)nn4)cc3)[nH]c2-c2ccc(F)cc2)cc[nH]1']"
      ]
     },
     "execution_count": 8,
     "metadata": {},
     "output_type": "execute_result"
    }
   ],
   "source": [
    "smiles_list[0:2]"
   ]
  },
  {
   "cell_type": "code",
   "execution_count": 9,
   "id": "18c74f7b-5c91-4b03-ab6c-d6f4606bcb56",
   "metadata": {},
   "outputs": [
    {
     "data": {
      "text/plain": [
       "[4.26, 4.34]"
      ]
     },
     "execution_count": 9,
     "metadata": {},
     "output_type": "execute_result"
    }
   ],
   "source": [
    "pic50_list[:2]"
   ]
  },
  {
   "cell_type": "markdown",
   "id": "e63fcacd-e987-4d33-89bb-1d5c6d1dbc82",
   "metadata": {},
   "source": [
    "### SMILES -> descriptor로 변환. "
   ]
  },
  {
   "cell_type": "code",
   "execution_count": 10,
   "id": "d14c66e4-1dde-4d8f-b8b2-bb8ed5a9cf8c",
   "metadata": {
    "tags": []
   },
   "outputs": [],
   "source": [
    "desc = calc_descriptors(Chem.MolFromSmiles(\"c1ccccc1\"))"
   ]
  },
  {
   "cell_type": "code",
   "execution_count": 13,
   "id": "b4c8bc9b-c344-4a0d-8334-2feeefe41cc5",
   "metadata": {},
   "outputs": [
    {
     "data": {
      "text/plain": [
       "195"
      ]
     },
     "execution_count": 13,
     "metadata": {},
     "output_type": "execute_result"
    }
   ],
   "source": [
    "len(desc)"
   ]
  },
  {
   "cell_type": "markdown",
   "id": "39db0009-d75b-4eea-9e14-24baa7e19fe1",
   "metadata": {},
   "source": [
    "* 즉 195개의 실수(float)으로 된 descriptor list 로 변환됨. "
   ]
  },
  {
   "cell_type": "markdown",
   "id": "2714b37e-7683-4ec9-8a15-2c7ed92e14a3",
   "metadata": {},
   "source": [
    "* Tip: tqdm 모듈을 사용하면 Progress bar를 볼 수 있다. "
   ]
  },
  {
   "cell_type": "code",
   "execution_count": 12,
   "id": "fe2cbe6d-759e-41f9-8fd9-c434b7b8ede3",
   "metadata": {},
   "outputs": [
    {
     "name": "stdout",
     "output_type": "stream",
     "text": [
      "Collecting package metadata (current_repodata.json): ...working... done\n",
      "Solving environment: ...working... done\n",
      "\n",
      "# All requested packages already installed.\n",
      "\n"
     ]
    }
   ],
   "source": [
    "! conda install -c conda-forge tqdm -y"
   ]
  },
  {
   "cell_type": "code",
   "execution_count": 13,
   "id": "85364c0f-5de7-4b69-a452-890585e05bc5",
   "metadata": {},
   "outputs": [],
   "source": [
    "from tqdm import tqdm"
   ]
  },
  {
   "cell_type": "code",
   "execution_count": 14,
   "id": "621aaa36-2439-4e69-a55e-e3c5e493fe97",
   "metadata": {},
   "outputs": [
    {
     "name": "stderr",
     "output_type": "stream",
     "text": [
      "100%|██████████| 1911/1911 [00:20<00:00, 95.06it/s]\n"
     ]
    }
   ],
   "source": [
    "desc_list = []\n",
    "for smiles in tqdm(smiles_list):\n",
    "    mol = Chem.MolFromSmiles(smiles) # SMILES -> Mol\n",
    "    desc = calc_descriptors(mol)\n",
    "    desc_list.append(desc)"
   ]
  },
  {
   "cell_type": "code",
   "execution_count": 15,
   "id": "a3828862-e8d8-42c6-8428-1fad193197f8",
   "metadata": {
    "tags": []
   },
   "outputs": [
    {
     "data": {
      "text/plain": [
       "[1.6891010679640355,\n",
       " 1139.9346654410272,\n",
       " 17.27781011412252,\n",
       " 12.955623583130881,\n",
       " 14.588616744986334,\n",
       " 12.116122967884975,\n",
       " 7.503161722513579,\n",
       " 9.865977781362865,\n",
       " 5.3623467315570865,\n",
       " 8.219283427004692,\n",
       " 3.619036345691878,\n",
       " 6.39779902625805,\n",
       " 2.460132737297642,\n",
       " 4.502492141959249,\n",
       " 10.023291153407584,\n",
       " 8.417796984328938,\n",
       " 0.0,\n",
       " 4.2091791775220795,\n",
       " 11.381314269532023,\n",
       " 16.59685292692952,\n",
       " 11.336785877934737,\n",
       " 41.90874168438704,\n",
       " 30.33183534230805,\n",
       " 14.690051906346504,\n",
       " 0.0,\n",
       " 367.04491865600005,\n",
       " 0.0,\n",
       " -2.769999999999999,\n",
       " 25,\n",
       " 354.35100000000006,\n",
       " 15.740008044893049,\n",
       " 6.268385354767415,\n",
       " 3.2392829946811608,\n",
       " 148.61755337168788,\n",
       " 12.35664883780775,\n",
       " 0.27894233829193016,\n",
       " 12.35664883780775,\n",
       " 0.2708926724876687,\n",
       " 0.28092580576256654,\n",
       " 0.2708926724876687,\n",
       " -3.571131744721662,\n",
       " -0.27894233829193016,\n",
       " 4.159100000000002,\n",
       " 100.10150000000002,\n",
       " 367.4550000000001,\n",
       " 1,\n",
       " 5,\n",
       " 0,\n",
       " 0,\n",
       " 0,\n",
       " 2,\n",
       " 2,\n",
       " 4,\n",
       " 5,\n",
       " 1,\n",
       " 7,\n",
       " 0,\n",
       " 4,\n",
       " 0,\n",
       " 0,\n",
       " 0,\n",
       " 124,\n",
       " 0.0,\n",
       " 4.2091791775220795,\n",
       " 0.0,\n",
       " 0.0,\n",
       " 10.023291153407584,\n",
       " 0.0,\n",
       " 9.706073385399296,\n",
       " 13.401775505276145,\n",
       " 0.0,\n",
       " 11.336785877934737,\n",
       " 30.33183534230805,\n",
       " 35.711898112773966,\n",
       " 11.250837766380558,\n",
       " 22.924173001694058,\n",
       " 4,\n",
       " 8.417796984328938,\n",
       " 38.0808647412584,\n",
       " 0.0,\n",
       " 9.967957041894417,\n",
       " 0.0,\n",
       " 4.2091791775220795,\n",
       " 4.722094864452088,\n",
       " 72.24057702669509,\n",
       " 0.0,\n",
       " 11.257379486545457,\n",
       " 4.722094864452088,\n",
       " 5.687386274683562,\n",
       " 0.0,\n",
       " 11.336785877934737,\n",
       " 18.385754026223353,\n",
       " 10.023291153407584,\n",
       " 0.0,\n",
       " 0.0,\n",
       " 76.44975620421718,\n",
       " 0.0,\n",
       " 22.29078092177798,\n",
       " 0.0,\n",
       " 71.95,\n",
       " 27.596658918515885,\n",
       " 1.1782936420970607,\n",
       " 8.998228779172369,\n",
       " 1.7318000289086148,\n",
       " 3.589569370632909,\n",
       " 0.0,\n",
       " 18.036882141281282,\n",
       " 1.6896988641135466,\n",
       " 0.0,\n",
       " -3.571131744721662,\n",
       " 0,\n",
       " 0,\n",
       " 0,\n",
       " 0,\n",
       " 0,\n",
       " 2,\n",
       " 0,\n",
       " 0,\n",
       " 0,\n",
       " 0,\n",
       " 0,\n",
       " 0,\n",
       " 0,\n",
       " 0,\n",
       " 0,\n",
       " 2,\n",
       " 1,\n",
       " 0,\n",
       " 0,\n",
       " 0,\n",
       " 0,\n",
       " 0,\n",
       " 0,\n",
       " 0,\n",
       " 0,\n",
       " 0,\n",
       " 0,\n",
       " 0,\n",
       " 0,\n",
       " 1,\n",
       " 0,\n",
       " 0,\n",
       " 0,\n",
       " 0,\n",
       " 2,\n",
       " 0,\n",
       " 1,\n",
       " 0,\n",
       " 0,\n",
       " 0,\n",
       " 0,\n",
       " 0,\n",
       " 0,\n",
       " 0,\n",
       " 0,\n",
       " 0,\n",
       " 0,\n",
       " 0,\n",
       " 0,\n",
       " 0,\n",
       " 0,\n",
       " 0,\n",
       " 0,\n",
       " 0,\n",
       " 0,\n",
       " 0,\n",
       " 0,\n",
       " 0,\n",
       " 0,\n",
       " 0,\n",
       " 0,\n",
       " 0,\n",
       " 0,\n",
       " 0,\n",
       " 2,\n",
       " 0,\n",
       " 0,\n",
       " 0,\n",
       " 0,\n",
       " 0,\n",
       " 0,\n",
       " 0,\n",
       " 0,\n",
       " 0,\n",
       " 0,\n",
       " 0,\n",
       " 1,\n",
       " 0,\n",
       " 0,\n",
       " 0,\n",
       " 0,\n",
       " 0,\n",
       " 1,\n",
       " 0,\n",
       " 0]"
      ]
     },
     "execution_count": 15,
     "metadata": {},
     "output_type": "execute_result"
    }
   ],
   "source": [
    "desc_list[0]"
   ]
  },
  {
   "cell_type": "code",
   "execution_count": 16,
   "id": "ec7677ce-c879-4e41-8ba1-c6ab4fb8f920",
   "metadata": {},
   "outputs": [
    {
     "data": {
      "text/plain": [
       "1911"
      ]
     },
     "execution_count": 16,
     "metadata": {},
     "output_type": "execute_result"
    }
   ],
   "source": [
    "len(desc_list)"
   ]
  },
  {
   "cell_type": "code",
   "execution_count": 17,
   "id": "067008e1-f61f-41e9-bb31-16367a4b0a25",
   "metadata": {},
   "outputs": [
    {
     "data": {
      "text/plain": [
       "195"
      ]
     },
     "execution_count": 17,
     "metadata": {},
     "output_type": "execute_result"
    }
   ],
   "source": [
    "len(desc_list[0])"
   ]
  },
  {
   "cell_type": "code",
   "execution_count": 18,
   "id": "cc73cd92-3939-4f93-add7-1c68dcba3ea2",
   "metadata": {},
   "outputs": [],
   "source": [
    "import numpy as np"
   ]
  },
  {
   "cell_type": "markdown",
   "id": "e3a488a7-f997-4722-9194-9df5bd700a00",
   "metadata": {},
   "source": [
    "* 현재 desc_list는 195차원의 리스트를 1911개 가지고 있다. "
   ]
  },
  {
   "cell_type": "code",
   "execution_count": 19,
   "id": "78349578-2bd2-44b0-9ccb-fb14a4d7bc52",
   "metadata": {},
   "outputs": [],
   "source": [
    "X = np.array(desc_list) "
   ]
  },
  {
   "cell_type": "code",
   "execution_count": 20,
   "id": "26818def-4575-44cd-a901-61d307935bed",
   "metadata": {},
   "outputs": [
    {
     "data": {
      "text/plain": [
       "array([[1.68910107e+00, 1.13993467e+03, 1.72778101e+01, ...,\n",
       "        1.00000000e+00, 0.00000000e+00, 0.00000000e+00],\n",
       "       [1.47019240e+00, 1.61963869e+03, 2.52858818e+01, ...,\n",
       "        0.00000000e+00, 0.00000000e+00, 0.00000000e+00],\n",
       "       [2.01374091e+00, 7.02416659e+02, 1.63969767e+01, ...,\n",
       "        0.00000000e+00, 0.00000000e+00, 0.00000000e+00],\n",
       "       ...,\n",
       "       [1.34320992e+00, 8.93161200e+02, 2.05956474e+01, ...,\n",
       "        0.00000000e+00, 0.00000000e+00, 0.00000000e+00],\n",
       "       [1.61219013e+00, 1.01614666e+03, 1.74409468e+01, ...,\n",
       "        0.00000000e+00, 0.00000000e+00, 0.00000000e+00],\n",
       "       [1.59424692e+00, 9.40604392e+02, 1.86396174e+01, ...,\n",
       "        0.00000000e+00, 0.00000000e+00, 0.00000000e+00]])"
      ]
     },
     "execution_count": 20,
     "metadata": {},
     "output_type": "execute_result"
    }
   ],
   "source": [
    "X"
   ]
  },
  {
   "cell_type": "code",
   "execution_count": 21,
   "id": "3ffab532-2f64-4c0b-8ed4-36b7be223699",
   "metadata": {},
   "outputs": [
    {
     "data": {
      "text/plain": [
       "(1911, 195)"
      ]
     },
     "execution_count": 21,
     "metadata": {},
     "output_type": "execute_result"
    }
   ],
   "source": [
    "X.shape # 일반적으로 인풋 데이터 전체를 X 로 표현함. Input Feature"
   ]
  },
  {
   "cell_type": "markdown",
   "id": "e26abe40-22cb-467f-88a6-c764349c6f69",
   "metadata": {},
   "source": [
    "* 1911 X 195 행렬로 변환됨.\n",
    "* 각 행은 하나의 분자에 해당\n",
    "* 각 열은 하나의 물성에 해당. "
   ]
  },
  {
   "cell_type": "code",
   "execution_count": 22,
   "id": "74141a51-7a48-4685-8ac8-faef7df5e7b9",
   "metadata": {},
   "outputs": [],
   "source": [
    "y = np.array(pic50_list) # 예측하고자 하는 목적 값을 y로 바꿔줌. "
   ]
  },
  {
   "cell_type": "code",
   "execution_count": 23,
   "id": "d18e3b93-7d8a-4252-8729-02894460422e",
   "metadata": {},
   "outputs": [
    {
     "data": {
      "text/plain": [
       "array([ 4.26,  4.34,  4.53, ..., 10.78, 10.97, 10.97])"
      ]
     },
     "execution_count": 23,
     "metadata": {},
     "output_type": "execute_result"
    }
   ],
   "source": [
    "y"
   ]
  },
  {
   "cell_type": "code",
   "execution_count": 24,
   "id": "e27697aa-ac79-4f94-ac33-b1b1c5e2b65d",
   "metadata": {},
   "outputs": [
    {
     "data": {
      "text/plain": [
       "(1911,)"
      ]
     },
     "execution_count": 24,
     "metadata": {},
     "output_type": "execute_result"
    }
   ],
   "source": [
    "y.shape"
   ]
  },
  {
   "cell_type": "markdown",
   "id": "f8111f6b-9005-491d-b72e-9d7d7f1282f3",
   "metadata": {},
   "source": [
    "## 모델 학습 시키기"
   ]
  },
  {
   "cell_type": "markdown",
   "id": "1b67f454-c768-4474-816f-9d48476f6720",
   "metadata": {},
   "source": [
    "### Random Forest 모델"
   ]
  },
  {
   "cell_type": "markdown",
   "id": "ff6ac407-89cd-4095-920c-19ce312dba11",
   "metadata": {},
   "source": [
    "* 장점: \n",
    "    * 정규화가 필요 없다 -> 각 column (물성)의 최대, 최소값이 달라도 학습에 전혀 문제가 없다. \n",
    "    * 범주형 데이터도 잘 다룬다. "
   ]
  },
  {
   "cell_type": "code",
   "execution_count": 25,
   "id": "677ee72e-a845-447e-9012-4e90e8d79efb",
   "metadata": {},
   "outputs": [],
   "source": [
    "from sklearn.ensemble import RandomForestRegressor as RFR"
   ]
  },
  {
   "cell_type": "code",
   "execution_count": 26,
   "id": "451aefcb-3746-49f6-ba03-a14927830cfc",
   "metadata": {},
   "outputs": [],
   "source": [
    "my_model = RFR() # instance 를 생성할 때, 아무런 argument를 주지 않으면 default 옵션으로 생성됨. "
   ]
  },
  {
   "cell_type": "code",
   "execution_count": 27,
   "id": "fea227be-b28e-4e78-9823-4919fbdaf76f",
   "metadata": {},
   "outputs": [
    {
     "data": {
      "text/plain": [
       "RandomForestRegressor()"
      ]
     },
     "execution_count": 27,
     "metadata": {},
     "output_type": "execute_result"
    }
   ],
   "source": [
    "my_model"
   ]
  },
  {
   "cell_type": "markdown",
   "id": "47eaf787-121e-4f80-9b7b-6441173fc2a4",
   "metadata": {},
   "source": [
    "## 학습 데이터와 검증 데이터 준비. "
   ]
  },
  {
   "cell_type": "code",
   "execution_count": 28,
   "id": "1d900977-e77e-4c1b-8996-e6c09cb63936",
   "metadata": {},
   "outputs": [],
   "source": [
    "from sklearn.model_selection import train_test_split"
   ]
  },
  {
   "cell_type": "code",
   "execution_count": 29,
   "id": "4a7832ab-bf5a-4262-99ad-2e2f8113b6d9",
   "metadata": {},
   "outputs": [],
   "source": [
    "X_train, X_test, y_train, y_test = train_test_split(X, y, test_size = 0.2, random_state = 42)"
   ]
  },
  {
   "cell_type": "code",
   "execution_count": 30,
   "id": "5d3db11a-0b2c-4208-a462-17f5c9ba9471",
   "metadata": {},
   "outputs": [
    {
     "data": {
      "text/plain": [
       "(1528, 195)"
      ]
     },
     "execution_count": 30,
     "metadata": {},
     "output_type": "execute_result"
    }
   ],
   "source": [
    "X_train.shape"
   ]
  },
  {
   "cell_type": "code",
   "execution_count": 31,
   "id": "8cf20dff-d7e2-43f0-9eac-e7a7ce0d1912",
   "metadata": {},
   "outputs": [
    {
     "data": {
      "text/plain": [
       "(383, 195)"
      ]
     },
     "execution_count": 31,
     "metadata": {},
     "output_type": "execute_result"
    }
   ],
   "source": [
    "X_test.shape"
   ]
  },
  {
   "cell_type": "code",
   "execution_count": 32,
   "id": "8d507919-77f4-4740-9478-3f4c12cdcbed",
   "metadata": {},
   "outputs": [
    {
     "data": {
      "text/plain": [
       "(1528,)"
      ]
     },
     "execution_count": 32,
     "metadata": {},
     "output_type": "execute_result"
    }
   ],
   "source": [
    "y_train.shape"
   ]
  },
  {
   "cell_type": "code",
   "execution_count": 33,
   "id": "eb98975c-b429-4385-94db-1ca4802b39ef",
   "metadata": {},
   "outputs": [
    {
     "data": {
      "text/plain": [
       "(383,)"
      ]
     },
     "execution_count": 33,
     "metadata": {},
     "output_type": "execute_result"
    }
   ],
   "source": [
    "y_test.shape"
   ]
  },
  {
   "cell_type": "markdown",
   "id": "ed1aa179-8eb8-4290-818a-e361f475472a",
   "metadata": {},
   "source": [
    "## 모델 학습!"
   ]
  },
  {
   "cell_type": "code",
   "execution_count": 34,
   "id": "3aee2b73-1497-494a-ade9-b74a917065d3",
   "metadata": {},
   "outputs": [
    {
     "data": {
      "text/plain": [
       "RandomForestRegressor()"
      ]
     },
     "execution_count": 34,
     "metadata": {},
     "output_type": "execute_result"
    }
   ],
   "source": [
    "my_model.fit(X_train, y_train)"
   ]
  },
  {
   "cell_type": "markdown",
   "id": "15a7a73a-8a37-4ccb-aa28-94b68ad405a6",
   "metadata": {},
   "source": [
    "## 학습 끝!"
   ]
  },
  {
   "cell_type": "markdown",
   "id": "87eb3784-57bd-4d9b-b0b7-a84ec3f0f3e0",
   "metadata": {},
   "source": [
    "## 검증 시작!"
   ]
  },
  {
   "cell_type": "code",
   "execution_count": 35,
   "id": "0699168b-51c3-4133-bcef-2ee267d46bb3",
   "metadata": {},
   "outputs": [],
   "source": [
    "y_pred = my_model.predict(X_test) # 예측을 시켜보자. "
   ]
  },
  {
   "cell_type": "code",
   "execution_count": 36,
   "id": "99a0af2c-c1b2-40ae-a461-1c10c59ea98d",
   "metadata": {
    "tags": []
   },
   "outputs": [
    {
     "data": {
      "text/plain": [
       "array([ 7.393     ,  5.5335    , 10.0308    ,  7.28684167,  6.5338    ,\n",
       "        8.21215   ,  6.4305    ,  6.5663    ,  7.58601429,  7.4556    ,\n",
       "        7.28128571,  6.59963333,  8.0505    ,  5.88673333,  6.4624    ,\n",
       "        7.7294    ,  7.2717    ,  7.07625   ,  7.4044    ,  7.17371667,\n",
       "        6.44615   ,  6.8666    ,  7.352125  ,  6.12923333,  6.41065   ,\n",
       "        6.584     ,  5.92505   ,  8.0745    ,  8.394715  ,  7.380525  ,\n",
       "        6.63735   ,  7.408255  ,  7.6998    ,  9.88973333,  6.4313    ,\n",
       "        7.22265   ,  6.66235   ,  7.6185    ,  7.14292   ,  7.04981667,\n",
       "        6.9479    ,  6.4306    ,  7.40650238,  7.542     ,  7.400805  ,\n",
       "        7.58931667,  7.6025    ,  7.339     ,  6.737625  ,  7.841275  ,\n",
       "        7.6497    ,  6.6801956 ,  7.90451667,  6.51854524,  6.80115   ,\n",
       "        7.05375   ,  7.4782    ,  8.3459    ,  6.77447   ,  8.01925   ,\n",
       "        7.4292    ,  6.99169167,  6.9649    ,  8.07985   ,  6.83305   ,\n",
       "        8.0302    ,  7.0371    ,  7.9366    ,  7.08995   ,  8.57027333,\n",
       "        7.8545    ,  7.61477119, 10.174     ,  6.7818    ,  6.98442381,\n",
       "        7.228855  ,  8.95434   ,  7.37263333,  5.7611    ,  6.77185   ,\n",
       "        7.59898167,  7.15385   ,  8.054575  ,  7.6567    ,  6.8919    ,\n",
       "        7.4554625 ,  6.5598    ,  7.85283333,  7.4698    ,  7.47665   ,\n",
       "        9.1135    ,  7.5079    ,  8.7062    ,  7.9735    ,  6.42325   ,\n",
       "        6.49233333,  7.4955    ,  7.30784667,  8.06350167,  6.885525  ,\n",
       "        6.87516667,  7.3599    ,  8.0412    ,  6.3024    ,  7.538     ,\n",
       "        5.5803    ,  8.0505    ,  6.98058   ,  8.2478    ,  6.9343    ,\n",
       "        5.4365    ,  6.91025   ,  7.886325  ,  7.53475   , 10.0445    ,\n",
       "        7.12356   ,  7.13752   ,  7.0141375 ,  6.9867    ,  7.3709    ,\n",
       "        6.7651    ,  8.39444286,  9.9051    ,  7.791     ,  6.9035    ,\n",
       "        7.157185  ,  7.3809    ,  7.6304    ,  6.27773333,  7.520575  ,\n",
       "        7.379     ,  6.9       ,  6.8043    ,  5.73702   ,  6.1641    ,\n",
       "        5.8237    ,  9.9689    ,  6.835     ,  6.3389    ,  6.9262    ,\n",
       "        7.8149    ,  9.89876667,  6.83793333,  6.92982857,  8.6805    ,\n",
       "        7.6087    ,  8.08273821,  7.2317    ,  7.5344    ,  7.40672556,\n",
       "        7.18023333,  7.51      ,  7.28156   ,  7.68488667,  5.1471    ,\n",
       "        5.9777    ,  6.9764    ,  7.17975667,  6.4657    ,  8.56462143,\n",
       "        7.8958    ,  6.98442381,  7.66222   ,  7.88926964,  6.75465   ,\n",
       "        7.47488611,  7.2953    ,  9.88203333,  7.7746    ,  7.7578    ,\n",
       "        8.03112952,  7.6501    ,  6.56656667, 10.07823333,  7.54183333,\n",
       "        7.0675    ,  7.3401    ,  6.66560833,  6.97551667,  6.7697    ,\n",
       "        7.34323333,  8.046     ,  7.52175   ,  6.79665   ,  6.9638    ,\n",
       "        7.67269288,  6.811     ,  7.59573333,  6.5689    ,  7.96315   ,\n",
       "        7.77432   ,  7.68078333,  6.1099    ,  7.1335    ,  7.25744976,\n",
       "        7.2752    ,  6.2339    ,  7.59356   ,  7.14822333,  6.560225  ,\n",
       "        6.92993333,  8.3161219 ,  6.6756    ,  7.4495    ,  7.36875   ,\n",
       "        7.56475   ,  7.4957    ,  5.9719    ,  7.7786    ,  6.1011    ,\n",
       "        7.38375   ,  7.47488611,  6.46052667,  7.513     ,  7.5803    ,\n",
       "        6.2975    ,  7.8179    ,  7.1314    ,  6.3295    ,  6.6801956 ,\n",
       "        7.44869405,  7.2765    ,  8.7985    ,  9.9026    ,  6.383     ,\n",
       "        7.3991    ,  7.4922    ,  6.58675   ,  7.0118    ,  6.9257    ,\n",
       "        6.75455   ,  7.735     ,  7.87517333,  6.51753333,  5.6143    ,\n",
       "        7.64546   ,  8.31181667,  5.9972    ,  6.33351667,  6.2074    ,\n",
       "        7.7653    ,  7.08616   ,  7.157185  ,  7.7582    ,  6.7779    ,\n",
       "        6.7725    ,  8.0475    ,  8.7272    , 10.08865   ,  6.2803    ,\n",
       "        8.0566    ,  6.5426    ,  7.5594    ,  6.96053333,  7.8201    ,\n",
       "        6.86402667,  7.52114167,  6.7774    ,  9.9749    ,  7.50893833,\n",
       "        7.985     ,  8.8033    ,  7.57795   ,  6.7041    ,  7.2087    ,\n",
       "        6.73655   ,  8.0557    ,  7.101     ,  7.2423    ,  7.81465333,\n",
       "        7.5304    ,  7.65867548,  7.657     ,  9.0936    ,  8.1884    ,\n",
       "        8.4823    ,  6.62633333,  7.60511667,  7.2791    ,  7.2235    ,\n",
       "        7.0173    ,  9.8901    ,  7.2283    ,  7.19925   ,  9.71684   ,\n",
       "        7.82581667,  6.89175   ,  7.1932    , 10.025     ,  6.69245   ,\n",
       "        7.398     ,  6.95193333,  7.97788333,  6.6569    ,  9.9407    ,\n",
       "        6.821475  ,  7.51825333,  7.94116667,  7.352125  ,  7.70665071,\n",
       "        8.1595    ,  8.05545   ,  7.948     ,  5.7373    ,  6.61193333,\n",
       "        7.265     ,  7.2052    ,  7.53525   ,  8.1406    ,  7.58339333,\n",
       "        9.1661    ,  6.89235   ,  6.8462    ,  7.57795   ,  8.969225  ,\n",
       "        8.68685   ,  6.6208    ,  8.20265   ,  6.561     ,  6.7842    ,\n",
       "        7.94469048,  7.26663524,  7.15482333,  7.83516548,  6.73115   ,\n",
       "        7.61096667,  6.7511    ,  6.5133    ,  7.46151833,  7.63025   ,\n",
       "        6.60195   ,  8.2713    ,  7.0769    ,  8.24375   ,  8.0961    ,\n",
       "        6.27773333,  6.8315    ,  6.67205167,  9.7578    ,  7.32785   ,\n",
       "        6.46163   ,  7.4399    ,  6.6422    ,  8.26055   ,  6.7202    ,\n",
       "        6.46867833,  6.7236    ,  7.94014   ,  7.683     ,  6.777325  ,\n",
       "        7.081     ,  8.72325   ,  7.8695    ,  6.6355    ,  6.9378    ,\n",
       "        7.55535   ,  7.032     ,  7.13354167,  7.597875  ,  6.8941    ,\n",
       "        6.77615   ,  7.57948333,  8.1875    ,  7.62585   ,  7.10745   ,\n",
       "        7.15508333,  6.2713    ,  6.233     ,  7.307     ,  7.4335    ,\n",
       "        7.75876024,  6.5901    ,  9.9946    ,  8.0029    ,  7.75492333,\n",
       "        5.8283    ,  6.98665   ,  7.5823    ,  9.9923    ,  7.1326    ,\n",
       "        6.79258857,  6.77033333,  5.8216    ])"
      ]
     },
     "execution_count": 36,
     "metadata": {},
     "output_type": "execute_result"
    }
   ],
   "source": [
    "y_pred # 예측 값이 저장되어 있음. "
   ]
  },
  {
   "cell_type": "markdown",
   "id": "8081de0a-4bb3-45d4-ae28-1900224848a5",
   "metadata": {},
   "source": [
    "### 예측 값과 실제 값을 비교해보자!"
   ]
  },
  {
   "cell_type": "code",
   "execution_count": 37,
   "id": "503f8d67-53f2-41fe-a0c9-e1c0b9bb7aa6",
   "metadata": {},
   "outputs": [],
   "source": [
    "import matplotlib as mpl\n",
    "import matplotlib.pyplot as plt"
   ]
  },
  {
   "cell_type": "markdown",
   "id": "87b8e6bf-47ee-40bf-adf6-159b7c3025d5",
   "metadata": {},
   "source": [
    "* 예측 값을 y_pred에 저장되어 있고, 실제 값을 y_test에 저장 되어 있다!!"
   ]
  },
  {
   "cell_type": "code",
   "execution_count": 38,
   "id": "8b6c18c8-c643-4199-b07f-be3171fc292f",
   "metadata": {},
   "outputs": [
    {
     "data": {
      "text/plain": [
       "<matplotlib.collections.PathCollection at 0x12ad0a19160>"
      ]
     },
     "execution_count": 38,
     "metadata": {},
     "output_type": "execute_result"
    },
    {
     "data": {
      "image/png": "[encoded data removed]",
      "text/plain": [
       "<Figure size 432x288 with 1 Axes>"
      ]
     },
     "metadata": {
      "needs_background": "light"
     },
     "output_type": "display_data"
    }
   ],
   "source": [
    "plt.scatter(y_test, y_pred)"
   ]
  },
  {
   "cell_type": "markdown",
   "id": "7317b785-131b-48df-9549-e35a552a20cc",
   "metadata": {},
   "source": [
    "### 정량 검증을 위해서 Mean Squared Error를 계산해볼 수 있다. "
   ]
  },
  {
   "cell_type": "code",
   "execution_count": 39,
   "id": "af850bd4-d822-4283-b60d-ba51ac1fd206",
   "metadata": {},
   "outputs": [],
   "source": [
    "from sklearn.metrics import mean_squared_error as mse"
   ]
  },
  {
   "cell_type": "code",
   "execution_count": 40,
   "id": "cea785b5-24af-40a5-86c0-2addf2413dd1",
   "metadata": {},
   "outputs": [
    {
     "data": {
      "text/plain": [
       "0.4630125911315911"
      ]
     },
     "execution_count": 40,
     "metadata": {},
     "output_type": "execute_result"
    }
   ],
   "source": [
    "mse(y_test, y_pred)"
   ]
  },
  {
   "cell_type": "code",
   "execution_count": 41,
   "id": "1ea3d3da-4fec-4530-a0f5-42730d562b81",
   "metadata": {},
   "outputs": [
    {
     "data": {
      "text/plain": [
       "0.6804502855694831"
      ]
     },
     "execution_count": 41,
     "metadata": {},
     "output_type": "execute_result"
    }
   ],
   "source": [
    "np.sqrt(mse(y_test, y_pred))"
   ]
  },
  {
   "cell_type": "markdown",
   "id": "6023161b-a788-4876-9e2d-fcca7aa1fd3a",
   "metadata": {},
   "source": [
    "### Mean Squared Error 말고 Mean Absolute Error도 많이 사용된다. "
   ]
  },
  {
   "cell_type": "code",
   "execution_count": 42,
   "id": "2052d2b9-6bba-40ef-8df5-5fa308aa03b8",
   "metadata": {},
   "outputs": [],
   "source": [
    "from sklearn.metrics import mean_absolute_error as mae"
   ]
  },
  {
   "cell_type": "code",
   "execution_count": 43,
   "id": "7da0bee6-6dce-43a9-a75c-bab3a5534096",
   "metadata": {},
   "outputs": [
    {
     "data": {
      "text/plain": [
       "0.5090932598269156"
      ]
     },
     "execution_count": 43,
     "metadata": {},
     "output_type": "execute_result"
    }
   ],
   "source": [
    "mae(y_test, y_pred)"
   ]
  },
  {
   "cell_type": "markdown",
   "id": "7899cf09-d951-428b-9168-3af0efd59ad1",
   "metadata": {},
   "source": [
    "### R^2 값은 perfect correlation이면 1 correlation이 약해질 수록 0에 가까워진다. "
   ]
  },
  {
   "cell_type": "code",
   "execution_count": 56,
   "id": "c663deee-c0da-422f-a478-81cf0e69e833",
   "metadata": {},
   "outputs": [],
   "source": [
    "from sklearn.metrics import r2_score"
   ]
  },
  {
   "cell_type": "code",
   "execution_count": 57,
   "id": "2cc47544-ed4a-4938-af79-dea00b5d7f13",
   "metadata": {},
   "outputs": [
    {
     "data": {
      "text/plain": [
       "0.6459488739550028"
      ]
     },
     "execution_count": 57,
     "metadata": {},
     "output_type": "execute_result"
    }
   ],
   "source": [
    "r2_score(y_test, y_pred)"
   ]
  },
  {
   "cell_type": "markdown",
   "id": "a5ad90a1-8ace-4992-9ae9-503e34b5861c",
   "metadata": {},
   "source": [
    "## n_estimator 라는 hyperparameter를 바꿔서 새로운 모델을 만들어 보자!"
   ]
  },
  {
   "cell_type": "code",
   "execution_count": 59,
   "id": "889a9e31-3a79-4ada-bdbe-931316c4872a",
   "metadata": {},
   "outputs": [],
   "source": [
    "my_model2 = RFR(n_estimators=300)"
   ]
  },
  {
   "cell_type": "code",
   "execution_count": 60,
   "id": "4cfda7c1-978f-49c8-b04c-10e7fbeae206",
   "metadata": {},
   "outputs": [
    {
     "data": {
      "text/plain": [
       "RandomForestRegressor(n_estimators=300)"
      ]
     },
     "execution_count": 60,
     "metadata": {},
     "output_type": "execute_result"
    }
   ],
   "source": [
    "my_model2.fit(X_train, y_train)"
   ]
  },
  {
   "cell_type": "code",
   "execution_count": 61,
   "id": "7a90a2bb-721a-446b-b564-541278f8a128",
   "metadata": {},
   "outputs": [],
   "source": [
    "y_pred2 = my_model2.predict(X_test)"
   ]
  },
  {
   "cell_type": "code",
   "execution_count": 62,
   "id": "9e4dd779-2da6-42f1-b206-070089d50a24",
   "metadata": {},
   "outputs": [
    {
     "data": {
      "text/plain": [
       "0.46642042383726684"
      ]
     },
     "execution_count": 62,
     "metadata": {},
     "output_type": "execute_result"
    }
   ],
   "source": [
    "mse(y_test, y_pred2)"
   ]
  },
  {
   "cell_type": "markdown",
   "id": "92699e80-43dd-4445-a5e6-ad4fe7d79642",
   "metadata": {},
   "source": [
    "* Error가 조금 더 작다는 것은 두번째 모델이 조금 더 좋은 모델이라는 것을 의미!"
   ]
  },
  {
   "cell_type": "code",
   "execution_count": 63,
   "id": "af3a29f6-9542-438f-a084-9fcd0082ed48",
   "metadata": {},
   "outputs": [
    {
     "data": {
      "text/plain": [
       "0.5123360182673435"
      ]
     },
     "execution_count": 63,
     "metadata": {},
     "output_type": "execute_result"
    }
   ],
   "source": [
    "mae(y_test, y_pred2)"
   ]
  },
  {
   "cell_type": "code",
   "execution_count": 65,
   "id": "920ddfdc-7eb6-467c-8ea8-143503513dcb",
   "metadata": {},
   "outputs": [
    {
     "data": {
      "text/plain": [
       "0.64873416091105"
      ]
     },
     "execution_count": 65,
     "metadata": {},
     "output_type": "execute_result"
    }
   ],
   "source": [
    "r2_score(y_test, y_pred2)"
   ]
  },
  {
   "cell_type": "markdown",
   "id": "f359281a-47de-4e3a-b11a-90e5f91b7cba",
   "metadata": {},
   "source": [
    "## Hyperparameter tuning은 최근에는 자동화된 tuning 등장하였음. "
   ]
  },
  {
   "cell_type": "code",
   "execution_count": null,
   "id": "23088191-2f22-416a-a2e9-137d31a639cc",
   "metadata": {},
   "outputs": [],
   "source": []
  }
 ],
 "metadata": {
  "kernelspec": {
   "display_name": "Python 3",
   "language": "python",
   "name": "python3"
  },
  "language_info": {
   "codemirror_mode": {
    "name": "ipython",
    "version": 3
   },
   "file_extension": ".py",
   "mimetype": "text/x-python",
   "name": "python",
   "nbconvert_exporter": "python",
   "pygments_lexer": "ipython3",
   "version": "3.8.8"
  }
 },
 "nbformat": 4,
 "nbformat_minor": 5
}
