{
 "cells": [
  {
   "cell_type": "code",
   "execution_count": 1,
   "id": "63adba59",
   "metadata": {},
   "outputs": [],
   "source": [
    "import rdkit\n",
    "from rdkit import Chem\n",
    "from rdkit.Chem import AllChem"
   ]
  },
  {
   "cell_type": "code",
   "execution_count": 2,
   "id": "b670951c",
   "metadata": {},
   "outputs": [],
   "source": [
    "from rdkit.Chem import AllChem\n",
    "from rdkit import DataStructs\n",
    "from rdkit.Chem import MolFromSmiles\n",
    "from rdkit.Chem.GraphDescriptors import (BalabanJ, BertzCT, Chi0, Chi0n, Chi0v, Chi1,\n",
    "                                         Chi1n, Chi1v, Chi2n, Chi2v, Chi3n, Chi3v, Chi4n, Chi4v,\n",
    "                                         HallKierAlpha, Ipc, Kappa1, Kappa2, Kappa3)\n",
    "\n",
    "from rdkit.Chem.EState.EState_VSA import (EState_VSA1, EState_VSA10, EState_VSA11, EState_VSA2, EState_VSA3,\n",
    "                                          EState_VSA4, EState_VSA5, EState_VSA6, EState_VSA7, EState_VSA8, EState_VSA9,\n",
    "                                          VSA_EState1, VSA_EState10, VSA_EState2, VSA_EState3, VSA_EState4, VSA_EState5,\n",
    "                                          VSA_EState6, VSA_EState7, VSA_EState8, VSA_EState9,)\n",
    "\n",
    "from rdkit.Chem.Descriptors import (ExactMolWt, MolWt, HeavyAtomMolWt, MaxAbsPartialCharge, MinPartialCharge,\n",
    "                                    MaxPartialCharge, MinAbsPartialCharge, NumRadicalElectrons, NumValenceElectrons)\n",
    "\n",
    "from rdkit.Chem.EState.EState import (MaxAbsEStateIndex, MaxEStateIndex, MinAbsEStateIndex, MinEStateIndex,)\n",
    "\n",
    "from rdkit.Chem.Lipinski import (FractionCSP3, HeavyAtomCount, NHOHCount, NOCount, NumAliphaticCarbocycles,\n",
    "                                 NumAliphaticHeterocycles, NumAliphaticRings, NumAromaticCarbocycles, NumAromaticHeterocycles,\n",
    "                                 NumAromaticRings, NumHAcceptors, NumHDonors, NumHeteroatoms, RingCount,\n",
    "                                 NumRotatableBonds, NumSaturatedCarbocycles, NumSaturatedHeterocycles, NumSaturatedRings,)\n",
    "\n",
    "from rdkit.Chem.Crippen import (MolLogP, MolMR, )\n",
    "\n",
    "from rdkit.Chem.MolSurf import (LabuteASA, PEOE_VSA1, PEOE_VSA10, PEOE_VSA11, PEOE_VSA12, PEOE_VSA13, PEOE_VSA14,\n",
    "                                PEOE_VSA2, PEOE_VSA3,PEOE_VSA4, PEOE_VSA5, PEOE_VSA6, PEOE_VSA7, PEOE_VSA8, PEOE_VSA9,\n",
    "                                SMR_VSA1, SMR_VSA10, SMR_VSA2, SMR_VSA3, SMR_VSA4, SMR_VSA5, SMR_VSA6,\n",
    "                                SMR_VSA7, SMR_VSA8, SMR_VSA9, SlogP_VSA1, SlogP_VSA10, SlogP_VSA11, SlogP_VSA12,\n",
    "                                SlogP_VSA2, SlogP_VSA3,SlogP_VSA4, SlogP_VSA5, SlogP_VSA6, SlogP_VSA7, SlogP_VSA8,\n",
    "                                SlogP_VSA9, TPSA, )\n",
    "\n",
    "from rdkit.Chem.Fragments import (fr_Al_COO, fr_Al_OH, fr_Al_OH_noTert, fr_ArN, fr_Ar_COO, fr_Ar_N, fr_Ar_NH,\n",
    " fr_Ar_OH, fr_COO, fr_COO2, fr_C_O, fr_C_O_noCOO, fr_C_S, fr_HOCCN, fr_Imine, fr_NH0, fr_NH1,\n",
    " fr_NH2, fr_N_O, fr_Ndealkylation1, fr_Ndealkylation2, fr_Nhpyrrole, fr_SH, fr_aldehyde, fr_alkyl_carbamate,\n",
    " fr_alkyl_halide, fr_allylic_oxid, fr_amide, fr_amidine, fr_aniline, fr_aryl_methyl, fr_azide, fr_azo, fr_barbitur,\n",
    " fr_benzene, fr_benzodiazepine, fr_bicyclic, fr_diazo, fr_dihydropyridine, fr_epoxide, fr_ester, fr_ether, fr_furan,\n",
    " fr_guanido, fr_halogen, fr_hdrzine, fr_hdrzone, fr_imidazole, fr_imide, fr_isocyan, fr_isothiocyan, fr_ketone,\n",
    " fr_ketone_Topliss, fr_lactam, fr_lactone, fr_methoxy, fr_morpholine, fr_nitrile, fr_nitro, fr_nitro_arom,\n",
    " fr_nitro_arom_nonortho, fr_nitroso, fr_oxazole, fr_oxime, fr_para_hydroxylation, fr_phenol,\n",
    " fr_phenol_noOrthoHbond, fr_phos_acid, fr_phos_ester, fr_piperdine, fr_piperzine, fr_priamide, fr_prisulfonamd,\n",
    " fr_pyridine, fr_quatN, fr_sulfide, fr_sulfonamd, fr_sulfone, fr_term_acetylene, fr_tetrazole, fr_thiazole, fr_thiocyan,\n",
    " fr_thiophene, fr_unbrch_alkane, fr_urea)\n",
    "\n",
    "# Descriptor 계산 수행 함수. \n",
    "def calc_descriptors(mol):\n",
    "    if mol is None:\n",
    "        print(\"Molecule is None!\")\n",
    "        return None\n",
    "    else:\n",
    "        AllChem.ComputeGasteigerCharges(mol)\n",
    "        finger = [\n",
    "            BalabanJ(mol) , # 0\n",
    "            BertzCT(mol) , # 1\n",
    "            Chi0(mol) , # 2\n",
    "            Chi0n(mol) , # 3\n",
    "            Chi0v(mol) , # 4\n",
    "            Chi1(mol) , # 5\n",
    "            Chi1n(mol) , # 6\n",
    "            Chi1v(mol) , # 7\n",
    "            Chi2n(mol) ,\n",
    "            Chi2v(mol) ,\n",
    "            Chi3n(mol) ,\n",
    "            Chi3v(mol) ,\n",
    "            Chi4n(mol) ,\n",
    "            Chi4v(mol) ,\n",
    "            EState_VSA1(mol) ,\n",
    "            EState_VSA10(mol) ,\n",
    "            EState_VSA11(mol) ,\n",
    "            EState_VSA2(mol) ,\n",
    "            EState_VSA3(mol) ,\n",
    "            EState_VSA4(mol) ,\n",
    "            EState_VSA5(mol) ,\n",
    "            EState_VSA6(mol) ,\n",
    "            EState_VSA7(mol) ,\n",
    "            EState_VSA8(mol) ,\n",
    "                EState_VSA9(mol) ,\n",
    "                ExactMolWt(mol) ,\n",
    "                FractionCSP3(mol) ,\n",
    "                HallKierAlpha(mol) ,\n",
    "                HeavyAtomCount(mol) ,\n",
    "                HeavyAtomMolWt(mol) ,\n",
    "                # Ipc(mol) ,\n",
    "                Kappa1(mol) ,\n",
    "                Kappa2(mol) ,\n",
    "                Kappa3(mol) ,\n",
    "                LabuteASA(mol) ,\n",
    "                MaxAbsEStateIndex(mol) ,\n",
    "                MaxAbsPartialCharge(mol) ,\n",
    "                MaxEStateIndex(mol) ,\n",
    "                MaxPartialCharge(mol) ,\n",
    "                MinAbsEStateIndex(mol) ,\n",
    "                MinAbsPartialCharge(mol) ,\n",
    "                MinEStateIndex(mol) ,\n",
    "                MinPartialCharge(mol) ,\n",
    "                MolLogP(mol) ,\n",
    "                MolMR(mol) ,\n",
    "                MolWt(mol) ,\n",
    "                NHOHCount(mol) ,\n",
    "                NOCount(mol) ,\n",
    "                NumAliphaticCarbocycles(mol) ,\n",
    "                NumAliphaticHeterocycles(mol) ,\n",
    "                NumAliphaticRings(mol) ,\n",
    "                NumAromaticCarbocycles(mol) ,\n",
    "                NumAromaticHeterocycles(mol) ,\n",
    "                NumAromaticRings(mol) ,\n",
    "                NumHAcceptors(mol) ,\n",
    "                NumHDonors(mol) ,\n",
    "                NumHeteroatoms(mol) ,\n",
    "                NumRadicalElectrons(mol) ,\n",
    "                NumRotatableBonds(mol) ,\n",
    "                NumSaturatedCarbocycles(mol) ,\n",
    "                NumSaturatedHeterocycles(mol) ,\n",
    "                NumSaturatedRings(mol) ,\n",
    "                NumValenceElectrons(mol) ,\n",
    "                PEOE_VSA1(mol) ,\n",
    "                PEOE_VSA10(mol) ,\n",
    "                PEOE_VSA11(mol) ,\n",
    "                PEOE_VSA12(mol) ,\n",
    "                PEOE_VSA13(mol) ,\n",
    "                PEOE_VSA14(mol) ,\n",
    "                PEOE_VSA2(mol) ,\n",
    "                PEOE_VSA3(mol) ,\n",
    "                PEOE_VSA4(mol) ,\n",
    "                PEOE_VSA5(mol) ,\n",
    "                PEOE_VSA6(mol) ,\n",
    "                PEOE_VSA7(mol) ,\n",
    "                PEOE_VSA8(mol) ,\n",
    "                PEOE_VSA9(mol) ,\n",
    "                RingCount(mol) ,\n",
    "                SMR_VSA1(mol) ,\n",
    "                SMR_VSA10(mol) ,\n",
    "                SMR_VSA2(mol) ,\n",
    "                SMR_VSA3(mol) ,\n",
    "                SMR_VSA4(mol) ,\n",
    "                SMR_VSA5(mol) ,\n",
    "                SMR_VSA6(mol) ,\n",
    "                SMR_VSA7(mol) ,\n",
    "                SMR_VSA8(mol) ,\n",
    "                SMR_VSA9(mol) ,\n",
    "                SlogP_VSA1(mol) ,\n",
    "                SlogP_VSA10(mol) ,\n",
    "                SlogP_VSA11(mol) ,\n",
    "                SlogP_VSA12(mol) ,\n",
    "                SlogP_VSA2(mol) ,\n",
    "                SlogP_VSA3(mol) ,\n",
    "                SlogP_VSA4(mol) ,\n",
    "                SlogP_VSA5(mol) ,\n",
    "                SlogP_VSA6(mol) ,\n",
    "                SlogP_VSA7(mol) ,\n",
    "                SlogP_VSA8(mol) ,\n",
    "                SlogP_VSA9(mol) ,\n",
    "                TPSA(mol) ,\n",
    "                VSA_EState1(mol) ,\n",
    "                VSA_EState10(mol) ,\n",
    "                VSA_EState2(mol) ,\n",
    "                VSA_EState3(mol) ,\n",
    "                VSA_EState4(mol) ,\n",
    "                VSA_EState5(mol) ,\n",
    "                VSA_EState6(mol) ,\n",
    "                VSA_EState7(mol) ,\n",
    "                VSA_EState8(mol) ,\n",
    "                VSA_EState9(mol) ,\n",
    "                fr_Al_COO(mol) ,\n",
    "                fr_Al_OH(mol) ,\n",
    "                fr_Al_OH_noTert(mol) ,\n",
    "                fr_ArN(mol) ,\n",
    "                fr_Ar_COO(mol) ,\n",
    "                fr_Ar_N(mol) ,\n",
    "                fr_Ar_NH(mol) ,\n",
    "                fr_Ar_OH(mol) ,\n",
    "                fr_COO(mol) ,\n",
    "                fr_COO2(mol) ,\n",
    "                fr_C_O(mol) ,\n",
    "                fr_C_O_noCOO(mol) ,\n",
    "                fr_C_S(mol) ,\n",
    "                fr_HOCCN(mol) ,\n",
    "                fr_Imine(mol) ,\n",
    "                fr_NH0(mol) ,\n",
    "                fr_NH1(mol) ,\n",
    "                fr_NH2(mol) ,\n",
    "                fr_N_O(mol) ,\n",
    "                fr_Ndealkylation1(mol) ,\n",
    "                fr_Ndealkylation2(mol) ,\n",
    "                fr_Nhpyrrole(mol) ,\n",
    "                fr_SH(mol) ,\n",
    "                fr_aldehyde(mol) ,\n",
    "                fr_alkyl_carbamate(mol) ,\n",
    "                fr_alkyl_halide(mol) ,\n",
    "                fr_allylic_oxid(mol) ,\n",
    "                fr_amide(mol) ,\n",
    "                fr_amidine(mol) ,\n",
    "                fr_aniline(mol) ,\n",
    "                fr_aryl_methyl(mol) ,\n",
    "                fr_azide(mol) ,\n",
    "                fr_azo(mol) ,\n",
    "                fr_barbitur(mol) ,\n",
    "                fr_benzene(mol) ,\n",
    "                fr_benzodiazepine(mol) ,\n",
    "                fr_bicyclic(mol) ,\n",
    "                fr_diazo(mol) ,\n",
    "                fr_dihydropyridine(mol) ,\n",
    "                fr_epoxide(mol) ,\n",
    "                fr_ester(mol) ,\n",
    "                fr_ether(mol) ,\n",
    "                fr_furan(mol) ,\n",
    "                fr_guanido(mol) ,\n",
    "                fr_halogen(mol) ,\n",
    "                fr_hdrzine(mol) ,\n",
    "                fr_hdrzone(mol) ,\n",
    "                fr_imidazole(mol) ,\n",
    "                fr_imide(mol) ,\n",
    "                fr_isocyan(mol) ,\n",
    "                fr_isothiocyan(mol) ,\n",
    "                fr_ketone(mol) ,\n",
    "                fr_ketone_Topliss(mol) ,\n",
    "                fr_lactam(mol) ,\n",
    "                fr_lactone(mol) ,\n",
    "                fr_methoxy(mol) ,\n",
    "                fr_morpholine(mol) ,\n",
    "                fr_nitrile(mol) ,\n",
    "                fr_nitro(mol) ,\n",
    "                fr_nitro_arom(mol) ,\n",
    "                fr_nitro_arom_nonortho(mol) ,\n",
    "                fr_nitroso(mol) ,\n",
    "                fr_oxazole(mol) ,\n",
    "                fr_oxime(mol) ,\n",
    "                fr_para_hydroxylation(mol) ,\n",
    "                fr_phenol(mol) ,\n",
    "                fr_phenol_noOrthoHbond(mol) ,\n",
    "                fr_phos_acid(mol) ,\n",
    "                fr_phos_ester(mol) ,\n",
    "                fr_piperdine(mol) ,\n",
    "                fr_piperzine(mol) ,\n",
    "                fr_priamide(mol) ,\n",
    "                fr_prisulfonamd(mol) ,\n",
    "                fr_pyridine(mol) ,\n",
    "                fr_quatN(mol) ,\n",
    "                fr_sulfide(mol) ,\n",
    "                fr_sulfonamd(mol) ,\n",
    "                fr_sulfone(mol) ,\n",
    "                fr_term_acetylene(mol) ,\n",
    "                fr_tetrazole(mol) ,\n",
    "                fr_thiazole(mol) ,\n",
    "                fr_thiocyan(mol) ,\n",
    "                fr_thiophene(mol),\n",
    "                fr_unbrch_alkane(mol) ,\n",
    "                fr_urea(mol) , #rdkit properties # 196\n",
    "                ]\n",
    "        return finger"
   ]
  },
  {
   "cell_type": "markdown",
   "id": "491ea837",
   "metadata": {},
   "source": [
    "## Pandas 불러오기 "
   ]
  },
  {
   "cell_type": "code",
   "execution_count": 3,
   "id": "1d31d1bc",
   "metadata": {},
   "outputs": [],
   "source": [
    "import pandas as pd"
   ]
  },
  {
   "cell_type": "code",
   "execution_count": 4,
   "id": "4e1d7b73",
   "metadata": {},
   "outputs": [],
   "source": [
    "dat = pd.read_csv(\"jak2_data.csv\")"
   ]
  },
  {
   "cell_type": "code",
   "execution_count": 5,
   "id": "c838f244",
   "metadata": {},
   "outputs": [
    {
     "data": {
      "text/html": [
       "<div>\n",
       "<style scoped>\n",
       "    .dataframe tbody tr th:only-of-type {\n",
       "        vertical-align: middle;\n",
       "    }\n",
       "\n",
       "    .dataframe tbody tr th {\n",
       "        vertical-align: top;\n",
       "    }\n",
       "\n",
       "    .dataframe thead th {\n",
       "        text-align: right;\n",
       "    }\n",
       "</style>\n",
       "<table border=\"1\" class=\"dataframe\">\n",
       "  <thead>\n",
       "    <tr style=\"text-align: right;\">\n",
       "      <th></th>\n",
       "      <th>SMILES</th>\n",
       "      <th>pIC50</th>\n",
       "    </tr>\n",
       "  </thead>\n",
       "  <tbody>\n",
       "    <tr>\n",
       "      <th>0</th>\n",
       "      <td>O=S(=O)(Nc1cccc(-c2cnc3ccccc3n2)c1)c1cccs1</td>\n",
       "      <td>4.26</td>\n",
       "    </tr>\n",
       "    <tr>\n",
       "      <th>1</th>\n",
       "      <td>O=c1cc(-c2nc(-c3ccc(-c4cn(CCP(=O)(O)O)nn4)cc3)...</td>\n",
       "      <td>4.34</td>\n",
       "    </tr>\n",
       "    <tr>\n",
       "      <th>2</th>\n",
       "      <td>NC(=O)c1ccc2c(c1)nc(C1CCC(O)CC1)n2CCCO</td>\n",
       "      <td>4.53</td>\n",
       "    </tr>\n",
       "    <tr>\n",
       "      <th>3</th>\n",
       "      <td>NCCCn1c(C2CCNCC2)nc2cc(C(N)=O)ccc21</td>\n",
       "      <td>4.56</td>\n",
       "    </tr>\n",
       "    <tr>\n",
       "      <th>4</th>\n",
       "      <td>CNC(=S)Nc1cccc(-c2cnc3ccccc3n2)c1</td>\n",
       "      <td>4.59</td>\n",
       "    </tr>\n",
       "    <tr>\n",
       "      <th>...</th>\n",
       "      <td>...</td>\n",
       "      <td>...</td>\n",
       "    </tr>\n",
       "    <tr>\n",
       "      <th>1906</th>\n",
       "      <td>CC(=O)N1CCCCC(Nc2ncccc2-c2cnc3[nH]ccc3n2)C1</td>\n",
       "      <td>10.72</td>\n",
       "    </tr>\n",
       "    <tr>\n",
       "      <th>1907</th>\n",
       "      <td>CN1CCN(c2ncc(-c3cnc4[nH]ccc4n3)c(NC3CCCN(S(=O)...</td>\n",
       "      <td>10.76</td>\n",
       "    </tr>\n",
       "    <tr>\n",
       "      <th>1908</th>\n",
       "      <td>CC1CN(S(=O)(=O)CC2CCC(N(C)c3[nH]cnc4nccc3-4)CC...</td>\n",
       "      <td>10.78</td>\n",
       "    </tr>\n",
       "    <tr>\n",
       "      <th>1909</th>\n",
       "      <td>CS(=O)(=O)N1CCC(Nc2ncccc2-c2cnc3[nH]ccc3n2)C1</td>\n",
       "      <td>10.97</td>\n",
       "    </tr>\n",
       "    <tr>\n",
       "      <th>1910</th>\n",
       "      <td>COC(=O)N1CCCCC(Nc2ncccc2-c2cnc3[nH]ccc3n2)C1</td>\n",
       "      <td>10.97</td>\n",
       "    </tr>\n",
       "  </tbody>\n",
       "</table>\n",
       "<p>1911 rows × 2 columns</p>\n",
       "</div>"
      ],
      "text/plain": [
       "                                                 SMILES  pIC50\n",
       "0            O=S(=O)(Nc1cccc(-c2cnc3ccccc3n2)c1)c1cccs1   4.26\n",
       "1     O=c1cc(-c2nc(-c3ccc(-c4cn(CCP(=O)(O)O)nn4)cc3)...   4.34\n",
       "2                NC(=O)c1ccc2c(c1)nc(C1CCC(O)CC1)n2CCCO   4.53\n",
       "3                   NCCCn1c(C2CCNCC2)nc2cc(C(N)=O)ccc21   4.56\n",
       "4                     CNC(=S)Nc1cccc(-c2cnc3ccccc3n2)c1   4.59\n",
       "...                                                 ...    ...\n",
       "1906        CC(=O)N1CCCCC(Nc2ncccc2-c2cnc3[nH]ccc3n2)C1  10.72\n",
       "1907  CN1CCN(c2ncc(-c3cnc4[nH]ccc4n3)c(NC3CCCN(S(=O)...  10.76\n",
       "1908  CC1CN(S(=O)(=O)CC2CCC(N(C)c3[nH]cnc4nccc3-4)CC...  10.78\n",
       "1909      CS(=O)(=O)N1CCC(Nc2ncccc2-c2cnc3[nH]ccc3n2)C1  10.97\n",
       "1910       COC(=O)N1CCCCC(Nc2ncccc2-c2cnc3[nH]ccc3n2)C1  10.97\n",
       "\n",
       "[1911 rows x 2 columns]"
      ]
     },
     "execution_count": 5,
     "metadata": {},
     "output_type": "execute_result"
    }
   ],
   "source": [
    "dat"
   ]
  },
  {
   "cell_type": "code",
   "execution_count": 6,
   "id": "e228e012",
   "metadata": {},
   "outputs": [
    {
     "data": {
      "text/plain": [
       "pandas.core.frame.DataFrame"
      ]
     },
     "execution_count": 6,
     "metadata": {},
     "output_type": "execute_result"
    }
   ],
   "source": [
    "type(dat) # pandas의 기본 자료구조는 DataFrame 이라고 하는 Class"
   ]
  },
  {
   "cell_type": "markdown",
   "id": "d95476f5",
   "metadata": {},
   "source": [
    "### describe라는 메소드를 사용하면 data의 각 column의 기본 통계치를 알 수 있다. "
   ]
  },
  {
   "cell_type": "code",
   "execution_count": 7,
   "id": "49c3d6a0",
   "metadata": {},
   "outputs": [
    {
     "data": {
      "text/html": [
       "<div>\n",
       "<style scoped>\n",
       "    .dataframe tbody tr th:only-of-type {\n",
       "        vertical-align: middle;\n",
       "    }\n",
       "\n",
       "    .dataframe tbody tr th {\n",
       "        vertical-align: top;\n",
       "    }\n",
       "\n",
       "    .dataframe thead th {\n",
       "        text-align: right;\n",
       "    }\n",
       "</style>\n",
       "<table border=\"1\" class=\"dataframe\">\n",
       "  <thead>\n",
       "    <tr style=\"text-align: right;\">\n",
       "      <th></th>\n",
       "      <th>pIC50</th>\n",
       "    </tr>\n",
       "  </thead>\n",
       "  <tbody>\n",
       "    <tr>\n",
       "      <th>count</th>\n",
       "      <td>1911.000000</td>\n",
       "    </tr>\n",
       "    <tr>\n",
       "      <th>mean</th>\n",
       "      <td>7.391544</td>\n",
       "    </tr>\n",
       "    <tr>\n",
       "      <th>std</th>\n",
       "      <td>1.180905</td>\n",
       "    </tr>\n",
       "    <tr>\n",
       "      <th>min</th>\n",
       "      <td>4.260000</td>\n",
       "    </tr>\n",
       "    <tr>\n",
       "      <th>25%</th>\n",
       "      <td>6.650000</td>\n",
       "    </tr>\n",
       "    <tr>\n",
       "      <th>50%</th>\n",
       "      <td>7.380000</td>\n",
       "    </tr>\n",
       "    <tr>\n",
       "      <th>75%</th>\n",
       "      <td>8.100000</td>\n",
       "    </tr>\n",
       "    <tr>\n",
       "      <th>max</th>\n",
       "      <td>10.970000</td>\n",
       "    </tr>\n",
       "  </tbody>\n",
       "</table>\n",
       "</div>"
      ],
      "text/plain": [
       "             pIC50\n",
       "count  1911.000000\n",
       "mean      7.391544\n",
       "std       1.180905\n",
       "min       4.260000\n",
       "25%       6.650000\n",
       "50%       7.380000\n",
       "75%       8.100000\n",
       "max      10.970000"
      ]
     },
     "execution_count": 7,
     "metadata": {},
     "output_type": "execute_result"
    }
   ],
   "source": [
    "dat.describe()"
   ]
  },
  {
   "cell_type": "markdown",
   "id": "82b7fb45",
   "metadata": {},
   "source": [
    "# 예제: ASK1 단백질에 active한 물질을 예측하는 모델을 학습시켜보자. "
   ]
  },
  {
   "cell_type": "markdown",
   "id": "29acb1aa",
   "metadata": {},
   "source": [
    "* Active한 물질은 pIC50 > 6 보다 클 경우로 정의한다. (IC50 < 1 microM)"
   ]
  },
  {
   "cell_type": "markdown",
   "id": "b494dc62",
   "metadata": {},
   "source": [
    "### 우선 어떤 물질이 active인지 정의가 필요!\n",
    "* pIC50 column값이 6보다 크면 True, 6보다 작으면 False로 정의한다. "
   ]
  },
  {
   "cell_type": "code",
   "execution_count": 8,
   "id": "84b28a58",
   "metadata": {},
   "outputs": [],
   "source": [
    "active = dat[\"pIC50\"] > 6.0"
   ]
  },
  {
   "cell_type": "code",
   "execution_count": 9,
   "id": "28b60dcc",
   "metadata": {},
   "outputs": [
    {
     "name": "stdout",
     "output_type": "stream",
     "text": [
      "0       False\n",
      "1       False\n",
      "2       False\n",
      "3       False\n",
      "4       False\n",
      "        ...  \n",
      "1906     True\n",
      "1907     True\n",
      "1908     True\n",
      "1909     True\n",
      "1910     True\n",
      "Name: pIC50, Length: 1911, dtype: bool\n"
     ]
    }
   ],
   "source": [
    "print(active)"
   ]
  },
  {
   "cell_type": "code",
   "execution_count": 10,
   "id": "5ef3a16d",
   "metadata": {},
   "outputs": [
    {
     "data": {
      "text/plain": [
       "pandas.core.series.Series"
      ]
     },
     "execution_count": 10,
     "metadata": {},
     "output_type": "execute_result"
    }
   ],
   "source": [
    "type(active) # Pandas의 Series라고 하는 class 로 정의가 됨. "
   ]
  },
  {
   "cell_type": "markdown",
   "id": "e12b8fa0",
   "metadata": {},
   "source": [
    "## Input feature matrix를 만들자!"
   ]
  },
  {
   "cell_type": "markdown",
   "id": "984d4352",
   "metadata": {},
   "source": [
    "### SMILES -> Mol 로 변환"
   ]
  },
  {
   "cell_type": "code",
   "execution_count": 11,
   "id": "560e41a0",
   "metadata": {},
   "outputs": [],
   "source": [
    "mol_list = []\n",
    "for smi in dat[\"SMILES\"]:\n",
    "    m = Chem.MolFromSmiles(smi)\n",
    "    if m is not None: # 유효한 분자인지? \n",
    "        mol_list.append(m)"
   ]
  },
  {
   "cell_type": "code",
   "execution_count": 12,
   "id": "91826f2d",
   "metadata": {},
   "outputs": [
    {
     "data": {
      "image/png": "[encoded data removed]",
      "text/plain": [
       "<rdkit.Chem.rdchem.Mol at 0x1f272c171c0>"
      ]
     },
     "execution_count": 12,
     "metadata": {},
     "output_type": "execute_result"
    }
   ],
   "source": [
    "mol_list[0]"
   ]
  },
  {
   "cell_type": "code",
   "execution_count": 13,
   "id": "33c6c57c",
   "metadata": {},
   "outputs": [
    {
     "data": {
      "text/plain": [
       "1911"
      ]
     },
     "execution_count": 13,
     "metadata": {},
     "output_type": "execute_result"
    }
   ],
   "source": [
    "len(mol_list)"
   ]
  },
  {
   "cell_type": "markdown",
   "id": "a5fa4f56",
   "metadata": {},
   "source": [
    "* 1911개의 분자가 성공적으로 변환되었다!"
   ]
  },
  {
   "cell_type": "markdown",
   "id": "f8a1ec5b",
   "metadata": {},
   "source": [
    "### Mol -> descriptor로 변환. "
   ]
  },
  {
   "cell_type": "code",
   "execution_count": 14,
   "id": "1cd21b71",
   "metadata": {},
   "outputs": [],
   "source": [
    "desc_list = []\n",
    "for m in mol_list:\n",
    "    desc_list.append(calc_descriptors(m))"
   ]
  },
  {
   "cell_type": "code",
   "execution_count": 15,
   "id": "6fa2b25d",
   "metadata": {
    "scrolled": true,
    "tags": []
   },
   "outputs": [
    {
     "data": {
      "text/plain": [
       "[1.6891010679640355,\n",
       " 1139.9346654410272,\n",
       " 17.27781011412252,\n",
       " 12.955623583130881,\n",
       " 14.588616744986334,\n",
       " 12.116122967884975,\n",
       " 7.503161722513579,\n",
       " 9.865977781362865,\n",
       " 5.3623467315570865,\n",
       " 8.219283427004692,\n",
       " 3.619036345691878,\n",
       " 6.39779902625805,\n",
       " 2.460132737297642,\n",
       " 4.502492141959249,\n",
       " 10.023291153407584,\n",
       " 8.417796984328938,\n",
       " 0.0,\n",
       " 4.2091791775220795,\n",
       " 11.381314269532023,\n",
       " 16.59685292692952,\n",
       " 11.336785877934737,\n",
       " 41.90874168438704,\n",
       " 30.33183534230805,\n",
       " 14.690051906346504,\n",
       " 0.0,\n",
       " 367.04491865600005,\n",
       " 0.0,\n",
       " -2.769999999999999,\n",
       " 25,\n",
       " 354.35100000000006,\n",
       " 15.740008044893049,\n",
       " 6.268385354767415,\n",
       " 3.2392829946811608,\n",
       " 148.61755337168788,\n",
       " 12.35664883780775,\n",
       " 0.27894233829193016,\n",
       " 12.35664883780775,\n",
       " 0.2708926724876687,\n",
       " 0.28092580576256654,\n",
       " 0.2708926724876687,\n",
       " -3.571131744721662,\n",
       " -0.27894233829193016,\n",
       " 4.159100000000002,\n",
       " 100.10150000000002,\n",
       " 367.4550000000001,\n",
       " 1,\n",
       " 5,\n",
       " 0,\n",
       " 0,\n",
       " 0,\n",
       " 2,\n",
       " 2,\n",
       " 4,\n",
       " 5,\n",
       " 1,\n",
       " 7,\n",
       " 0,\n",
       " 4,\n",
       " 0,\n",
       " 0,\n",
       " 0,\n",
       " 124,\n",
       " 0.0,\n",
       " 4.2091791775220795,\n",
       " 0.0,\n",
       " 0.0,\n",
       " 10.023291153407584,\n",
       " 0.0,\n",
       " 9.706073385399296,\n",
       " 13.401775505276145,\n",
       " 0.0,\n",
       " 11.336785877934737,\n",
       " 30.33183534230805,\n",
       " 35.711898112773966,\n",
       " 11.250837766380558,\n",
       " 22.924173001694058,\n",
       " 4,\n",
       " 8.417796984328938,\n",
       " 38.0808647412584,\n",
       " 0.0,\n",
       " 9.967957041894417,\n",
       " 0.0,\n",
       " 4.2091791775220795,\n",
       " 4.722094864452088,\n",
       " 72.24057702669509,\n",
       " 0.0,\n",
       " 11.257379486545457,\n",
       " 4.722094864452088,\n",
       " 5.687386274683562,\n",
       " 0.0,\n",
       " 11.336785877934737,\n",
       " 18.385754026223353,\n",
       " 10.023291153407584,\n",
       " 0.0,\n",
       " 0.0,\n",
       " 76.44975620421718,\n",
       " 0.0,\n",
       " 22.29078092177798,\n",
       " 0.0,\n",
       " 71.95,\n",
       " 27.596658918515885,\n",
       " 1.1782936420970607,\n",
       " 8.998228779172369,\n",
       " 1.7318000289086148,\n",
       " 3.589569370632909,\n",
       " 0.0,\n",
       " 18.036882141281282,\n",
       " 1.6896988641135466,\n",
       " 0.0,\n",
       " -3.571131744721662,\n",
       " 0,\n",
       " 0,\n",
       " 0,\n",
       " 0,\n",
       " 0,\n",
       " 2,\n",
       " 0,\n",
       " 0,\n",
       " 0,\n",
       " 0,\n",
       " 0,\n",
       " 0,\n",
       " 0,\n",
       " 0,\n",
       " 0,\n",
       " 2,\n",
       " 1,\n",
       " 0,\n",
       " 0,\n",
       " 0,\n",
       " 0,\n",
       " 0,\n",
       " 0,\n",
       " 0,\n",
       " 0,\n",
       " 0,\n",
       " 0,\n",
       " 0,\n",
       " 0,\n",
       " 1,\n",
       " 0,\n",
       " 0,\n",
       " 0,\n",
       " 0,\n",
       " 2,\n",
       " 0,\n",
       " 1,\n",
       " 0,\n",
       " 0,\n",
       " 0,\n",
       " 0,\n",
       " 0,\n",
       " 0,\n",
       " 0,\n",
       " 0,\n",
       " 0,\n",
       " 0,\n",
       " 0,\n",
       " 0,\n",
       " 0,\n",
       " 0,\n",
       " 0,\n",
       " 0,\n",
       " 0,\n",
       " 0,\n",
       " 0,\n",
       " 0,\n",
       " 0,\n",
       " 0,\n",
       " 0,\n",
       " 0,\n",
       " 0,\n",
       " 0,\n",
       " 0,\n",
       " 2,\n",
       " 0,\n",
       " 0,\n",
       " 0,\n",
       " 0,\n",
       " 0,\n",
       " 0,\n",
       " 0,\n",
       " 0,\n",
       " 0,\n",
       " 0,\n",
       " 0,\n",
       " 1,\n",
       " 0,\n",
       " 0,\n",
       " 0,\n",
       " 0,\n",
       " 0,\n",
       " 1,\n",
       " 0,\n",
       " 0]"
      ]
     },
     "execution_count": 15,
     "metadata": {},
     "output_type": "execute_result"
    }
   ],
   "source": [
    "desc_list[0]"
   ]
  },
  {
   "cell_type": "code",
   "execution_count": 16,
   "id": "b078dd34",
   "metadata": {},
   "outputs": [
    {
     "data": {
      "text/plain": [
       "1911"
      ]
     },
     "execution_count": 16,
     "metadata": {},
     "output_type": "execute_result"
    }
   ],
   "source": [
    "len(desc_list)"
   ]
  },
  {
   "cell_type": "markdown",
   "id": "6a4b2c08",
   "metadata": {},
   "source": [
    "* Mol type 변수들이 descriptor 벡터로 성공적으로 변환되었다!"
   ]
  },
  {
   "cell_type": "markdown",
   "id": "a1da459c",
   "metadata": {},
   "source": [
    "* Numpy array로 변환"
   ]
  },
  {
   "cell_type": "code",
   "execution_count": 17,
   "id": "df0e268a",
   "metadata": {},
   "outputs": [
    {
     "name": "stdout",
     "output_type": "stream",
     "text": [
      "(1911, 195)\n"
     ]
    }
   ],
   "source": [
    "import numpy as np\n",
    "X = np.array(desc_list)\n",
    "print(X.shape)"
   ]
  },
  {
   "cell_type": "markdown",
   "id": "f80ec2d6",
   "metadata": {},
   "source": [
    "* X가 1911 X 195 의 크기를 가지는 행렬로 변환되었다. "
   ]
  },
  {
   "cell_type": "markdown",
   "id": "d5fb4620",
   "metadata": {},
   "source": [
    "## Input feature와 output vaule의 준비가 완료"
   ]
  },
  {
   "cell_type": "markdown",
   "id": "ad7967fc",
   "metadata": {},
   "source": [
    "* X 가 input feature , active 가 output이 됨. "
   ]
  },
  {
   "cell_type": "markdown",
   "id": "9f8e6cde",
   "metadata": {},
   "source": [
    "## Training set과 Test set 분리. "
   ]
  },
  {
   "cell_type": "code",
   "execution_count": 18,
   "id": "7a979b2b",
   "metadata": {},
   "outputs": [],
   "source": [
    "from sklearn.model_selection import train_test_split"
   ]
  },
  {
   "cell_type": "code",
   "execution_count": 19,
   "id": "7984750f",
   "metadata": {},
   "outputs": [],
   "source": [
    "y = active\n",
    "X_train, X_test, y_train, y_test = train_test_split(X, y, test_size = 0.2, random_state = 42)"
   ]
  },
  {
   "cell_type": "code",
   "execution_count": 20,
   "id": "e91803fc",
   "metadata": {},
   "outputs": [
    {
     "data": {
      "text/plain": [
       "array([[1.14570502e+00, 1.08795674e+03, 2.14240745e+01, ...,\n",
       "        0.00000000e+00, 0.00000000e+00, 0.00000000e+00],\n",
       "       [1.56316812e+00, 1.05771076e+03, 1.86396174e+01, ...,\n",
       "        0.00000000e+00, 0.00000000e+00, 0.00000000e+00],\n",
       "       [1.34450834e+00, 1.50845500e+03, 2.52858818e+01, ...,\n",
       "        0.00000000e+00, 0.00000000e+00, 0.00000000e+00],\n",
       "       ...,\n",
       "       [1.40127944e+00, 1.51520350e+03, 2.77334756e+01, ...,\n",
       "        0.00000000e+00, 0.00000000e+00, 0.00000000e+00],\n",
       "       [1.14909257e+00, 1.70333390e+03, 3.08463597e+01, ...,\n",
       "        0.00000000e+00, 0.00000000e+00, 0.00000000e+00],\n",
       "       [1.61059678e+00, 9.31560103e+02, 1.84764807e+01, ...,\n",
       "        0.00000000e+00, 0.00000000e+00, 0.00000000e+00]])"
      ]
     },
     "execution_count": 20,
     "metadata": {},
     "output_type": "execute_result"
    }
   ],
   "source": [
    "X_train"
   ]
  },
  {
   "cell_type": "code",
   "execution_count": 21,
   "id": "35a7e1bb",
   "metadata": {},
   "outputs": [
    {
     "data": {
      "text/plain": [
       "(1528, 195)"
      ]
     },
     "execution_count": 21,
     "metadata": {},
     "output_type": "execute_result"
    }
   ],
   "source": [
    "X_train.shape"
   ]
  },
  {
   "cell_type": "code",
   "execution_count": 22,
   "id": "e011f345",
   "metadata": {},
   "outputs": [
    {
     "data": {
      "text/plain": [
       "(383, 195)"
      ]
     },
     "execution_count": 22,
     "metadata": {},
     "output_type": "execute_result"
    }
   ],
   "source": [
    "X_test.shape"
   ]
  },
  {
   "cell_type": "code",
   "execution_count": 23,
   "id": "bf50c12a",
   "metadata": {},
   "outputs": [
    {
     "data": {
      "text/plain": [
       "(1528,)"
      ]
     },
     "execution_count": 23,
     "metadata": {},
     "output_type": "execute_result"
    }
   ],
   "source": [
    "y_train.shape"
   ]
  },
  {
   "cell_type": "code",
   "execution_count": 24,
   "id": "e8a2163f",
   "metadata": {},
   "outputs": [
    {
     "data": {
      "text/plain": [
       "1010    True\n",
       "1103    True\n",
       "1785    True\n",
       "339     True\n",
       "1394    True\n",
       "        ... \n",
       "1130    True\n",
       "1294    True\n",
       "860     True\n",
       "1459    True\n",
       "1126    True\n",
       "Name: pIC50, Length: 1528, dtype: bool"
      ]
     },
     "execution_count": 24,
     "metadata": {},
     "output_type": "execute_result"
    }
   ],
   "source": [
    "y_train"
   ]
  },
  {
   "cell_type": "code",
   "execution_count": 25,
   "id": "869d75d6",
   "metadata": {},
   "outputs": [
    {
     "data": {
      "text/plain": [
       "(383,)"
      ]
     },
     "execution_count": 25,
     "metadata": {},
     "output_type": "execute_result"
    }
   ],
   "source": [
    "y_test.shape"
   ]
  },
  {
   "cell_type": "markdown",
   "id": "da769c3e",
   "metadata": {},
   "source": [
    "## RandomForestClassifier 불러오기. "
   ]
  },
  {
   "cell_type": "code",
   "execution_count": 26,
   "id": "22110069",
   "metadata": {},
   "outputs": [],
   "source": [
    "from sklearn.ensemble import RandomForestClassifier as RFC"
   ]
  },
  {
   "cell_type": "markdown",
   "id": "9ac9abb5",
   "metadata": {},
   "source": [
    "* default setting으로 model 생성. "
   ]
  },
  {
   "cell_type": "code",
   "execution_count": 27,
   "id": "08a6de2a",
   "metadata": {},
   "outputs": [],
   "source": [
    "my_model = RFC() "
   ]
  },
  {
   "cell_type": "markdown",
   "id": "a26f8537",
   "metadata": {},
   "source": [
    "* 실제 학습 진행"
   ]
  },
  {
   "cell_type": "code",
   "execution_count": 28,
   "id": "1351b4a3",
   "metadata": {},
   "outputs": [
    {
     "data": {
      "text/plain": [
       "RandomForestClassifier()"
      ]
     },
     "execution_count": 28,
     "metadata": {},
     "output_type": "execute_result"
    }
   ],
   "source": [
    "my_model.fit(X_train, y_train)"
   ]
  },
  {
   "cell_type": "markdown",
   "id": "0d57c963",
   "metadata": {},
   "source": [
    "* 예측 수행. "
   ]
  },
  {
   "cell_type": "code",
   "execution_count": 29,
   "id": "e032c7c1",
   "metadata": {},
   "outputs": [],
   "source": [
    "y_pred = my_model.predict(X_test)"
   ]
  },
  {
   "cell_type": "code",
   "execution_count": 30,
   "id": "2c007d0a",
   "metadata": {},
   "outputs": [
    {
     "data": {
      "text/plain": [
       "array([ True, False,  True,  True, False,  True,  True,  True,  True,\n",
       "        True,  True,  True,  True, False,  True,  True,  True,  True,\n",
       "        True,  True,  True,  True,  True, False,  True,  True, False,\n",
       "        True,  True,  True,  True,  True,  True,  True,  True,  True,\n",
       "        True,  True,  True,  True,  True,  True,  True,  True,  True,\n",
       "        True,  True,  True,  True,  True,  True,  True,  True,  True,\n",
       "        True,  True,  True,  True,  True,  True,  True,  True,  True,\n",
       "        True, False,  True,  True,  True,  True,  True,  True,  True,\n",
       "        True,  True,  True,  True,  True,  True, False,  True,  True,\n",
       "        True,  True,  True,  True,  True,  True,  True,  True,  True,\n",
       "        True,  True,  True,  True,  True,  True,  True,  True,  True,\n",
       "        True,  True,  True,  True,  True,  True, False,  True,  True,\n",
       "        True,  True, False,  True,  True,  True,  True,  True,  True,\n",
       "        True,  True,  True,  True,  True,  True,  True,  True,  True,\n",
       "        True,  True,  True,  True,  True,  True,  True, False,  True,\n",
       "        True,  True,  True,  True,  True,  True,  True,  True,  True,\n",
       "        True,  True,  True,  True,  True,  True,  True,  True,  True,\n",
       "        True, False,  True,  True,  True,  True,  True,  True,  True,\n",
       "        True,  True,  True,  True,  True,  True,  True,  True,  True,\n",
       "        True, False,  True,  True,  True,  True,  True,  True,  True,\n",
       "        True,  True,  True,  True,  True,  True,  True,  True,  True,\n",
       "        True,  True,  True,  True,  True,  True,  True,  True,  True,\n",
       "        True,  True,  True,  True,  True,  True,  True,  True,  True,\n",
       "       False,  True,  True,  True,  True,  True,  True,  True,  True,\n",
       "        True,  True,  True,  True,  True,  True,  True,  True,  True,\n",
       "        True,  True,  True, False,  True,  True,  True,  True,  True,\n",
       "       False,  True,  True, False,  True, False,  True,  True,  True,\n",
       "        True,  True,  True,  True,  True,  True,  True,  True,  True,\n",
       "        True,  True,  True,  True,  True,  True,  True,  True,  True,\n",
       "        True,  True,  True,  True,  True,  True,  True,  True,  True,\n",
       "        True,  True,  True,  True,  True,  True,  True,  True,  True,\n",
       "        True,  True,  True,  True,  True,  True,  True,  True,  True,\n",
       "        True,  True,  True,  True,  True,  True,  True,  True,  True,\n",
       "        True,  True,  True,  True,  True,  True, False,  True,  True,\n",
       "        True,  True,  True,  True,  True,  True,  True,  True,  True,\n",
       "        True,  True,  True,  True, False,  True,  True,  True,  True,\n",
       "        True,  True,  True,  True,  True,  True,  True,  True,  True,\n",
       "        True,  True,  True,  True,  True,  True,  True,  True,  True,\n",
       "        True,  True,  True, False,  True,  True,  True,  True,  True,\n",
       "        True,  True,  True,  True,  True,  True,  True,  True,  True,\n",
       "        True,  True,  True,  True,  True,  True,  True,  True,  True,\n",
       "        True,  True,  True,  True,  True,  True, False,  True,  True,\n",
       "        True,  True,  True,  True, False])"
      ]
     },
     "execution_count": 30,
     "metadata": {},
     "output_type": "execute_result"
    }
   ],
   "source": [
    "y_pred"
   ]
  },
  {
   "cell_type": "code",
   "execution_count": 31,
   "id": "53ce7ca3",
   "metadata": {},
   "outputs": [],
   "source": [
    "from sklearn.metrics import accuracy_score, precision_score, recall_score, f1_score, confusion_matrix"
   ]
  },
  {
   "cell_type": "markdown",
   "id": "66dc5fd8",
   "metadata": {},
   "source": [
    "### Confusion matrix 확인"
   ]
  },
  {
   "cell_type": "code",
   "execution_count": 32,
   "id": "630e0092",
   "metadata": {},
   "outputs": [
    {
     "data": {
      "text/plain": [
       "array([[ 14,  28],\n",
       "       [  8, 333]], dtype=int64)"
      ]
     },
     "execution_count": 32,
     "metadata": {},
     "output_type": "execute_result"
    }
   ],
   "source": [
    "confusion_matrix(y_test, y_pred)"
   ]
  },
  {
   "cell_type": "markdown",
   "id": "cb980e6b",
   "metadata": {},
   "source": [
    "* sklearn의 Confusion matrix에서는 행이 실제 값에 해당하고 열이 예측 값에 해당한다. "
   ]
  },
  {
   "cell_type": "markdown",
   "id": "cb1b287d",
   "metadata": {},
   "source": [
    "* 각 행과 열이 어떤 class에 해당하는지 확인. "
   ]
  },
  {
   "cell_type": "code",
   "execution_count": 33,
   "id": "53245dee",
   "metadata": {},
   "outputs": [
    {
     "name": "stdout",
     "output_type": "stream",
     "text": [
      "[False  True]\n"
     ]
    }
   ],
   "source": [
    "print(my_model.classes_)"
   ]
  },
  {
   "cell_type": "markdown",
   "id": "9a7d89db",
   "metadata": {},
   "source": [
    "* 첫번째 행, 첫번째 열은 False에 해당하고 두번째 행과 두번째 열은 True에 해당한다. "
   ]
  },
  {
   "cell_type": "markdown",
   "id": "d667de3b",
   "metadata": {},
   "source": [
    "* 위 confusion matrix가 의미하는 바는 \n",
    "* TP: 334개, TN: 16개, FP: 26개, FN: 7개 임을 보여준다. "
   ]
  },
  {
   "cell_type": "markdown",
   "id": "2a962398",
   "metadata": {},
   "source": [
    "### Accuracy 확인"
   ]
  },
  {
   "cell_type": "code",
   "execution_count": 34,
   "id": "6f25afab",
   "metadata": {},
   "outputs": [
    {
     "data": {
      "text/plain": [
       "0.9060052219321149"
      ]
     },
     "execution_count": 34,
     "metadata": {},
     "output_type": "execute_result"
    }
   ],
   "source": [
    "accuracy_score(y_test, y_pred)"
   ]
  },
  {
   "cell_type": "markdown",
   "id": "402ac7b4",
   "metadata": {},
   "source": [
    "* Accuracy = (TP + TN) / Total"
   ]
  },
  {
   "cell_type": "markdown",
   "id": "73e71bb6",
   "metadata": {},
   "source": [
    "### Precision 확인"
   ]
  },
  {
   "cell_type": "code",
   "execution_count": 35,
   "id": "3054ff35",
   "metadata": {},
   "outputs": [
    {
     "data": {
      "text/plain": [
       "0.9224376731301939"
      ]
     },
     "execution_count": 35,
     "metadata": {},
     "output_type": "execute_result"
    }
   ],
   "source": [
    "precision_score(y_test, y_pred)"
   ]
  },
  {
   "cell_type": "markdown",
   "id": "40766380",
   "metadata": {},
   "source": [
    "### Recall 확인"
   ]
  },
  {
   "cell_type": "code",
   "execution_count": 36,
   "id": "18d3d626",
   "metadata": {},
   "outputs": [
    {
     "data": {
      "text/plain": [
       "0.9765395894428153"
      ]
     },
     "execution_count": 36,
     "metadata": {},
     "output_type": "execute_result"
    }
   ],
   "source": [
    "recall_score(y_test, y_pred)"
   ]
  },
  {
   "cell_type": "markdown",
   "id": "e5e6c649",
   "metadata": {},
   "source": [
    "### F1 score 확인"
   ]
  },
  {
   "cell_type": "code",
   "execution_count": 37,
   "id": "6eafb85e",
   "metadata": {},
   "outputs": [
    {
     "data": {
      "text/plain": [
       "0.9487179487179488"
      ]
     },
     "execution_count": 37,
     "metadata": {},
     "output_type": "execute_result"
    }
   ],
   "source": [
    "f1_score(y_test, y_pred)"
   ]
  },
  {
   "cell_type": "markdown",
   "id": "4d125e11",
   "metadata": {},
   "source": [
    "### MCC 확인"
   ]
  },
  {
   "cell_type": "code",
   "execution_count": 38,
   "id": "9570e1d4",
   "metadata": {},
   "outputs": [],
   "source": [
    "from sklearn.metrics import matthews_corrcoef as mcc"
   ]
  },
  {
   "cell_type": "code",
   "execution_count": 39,
   "id": "b9bdebd6",
   "metadata": {},
   "outputs": [
    {
     "data": {
      "text/plain": [
       "0.4161218511734182"
      ]
     },
     "execution_count": 39,
     "metadata": {},
     "output_type": "execute_result"
    }
   ],
   "source": [
    "mcc(y_test, y_pred)"
   ]
  },
  {
   "cell_type": "markdown",
   "id": "f1b9b197",
   "metadata": {},
   "source": [
    "## ROC 커브 확인하기!"
   ]
  },
  {
   "cell_type": "markdown",
   "id": "b8c57800",
   "metadata": {},
   "source": [
    "* ROC 커브 계산을 하기 위해서는 class prediction probability가 필요하다. \n",
    "* 이를 계산하기 위해서 대부분의 sklearn에 존재하는 예측 모델들은 predict_proba 라고 하는 method를 가지고 있다. "
   ]
  },
  {
   "cell_type": "code",
   "execution_count": 40,
   "id": "3adf5640",
   "metadata": {},
   "outputs": [],
   "source": [
    "y_score = my_model.predict_proba(X_test)"
   ]
  },
  {
   "cell_type": "code",
   "execution_count": 41,
   "id": "258c66b2",
   "metadata": {},
   "outputs": [
    {
     "data": {
      "text/plain": [
       "(383, 2)"
      ]
     },
     "execution_count": 41,
     "metadata": {},
     "output_type": "execute_result"
    }
   ],
   "source": [
    "y_score.shape"
   ]
  },
  {
   "cell_type": "code",
   "execution_count": 42,
   "id": "29a9ecdd",
   "metadata": {},
   "outputs": [
    {
     "data": {
      "text/plain": [
       "array([False,  True])"
      ]
     },
     "execution_count": 42,
     "metadata": {},
     "output_type": "execute_result"
    }
   ],
   "source": [
    "my_model.classes_"
   ]
  },
  {
   "cell_type": "markdown",
   "id": "2bb0203b",
   "metadata": {},
   "source": [
    "* 첫번째 column이 False에 해당하고 두번째 column이 True에 해당한다. "
   ]
  },
  {
   "cell_type": "markdown",
   "id": "f5659414",
   "metadata": {},
   "source": [
    "* 그러므로 y_score의 첫번째 column은 False일 확률, 두 번째 column은 True일 확률을 의미한다. "
   ]
  },
  {
   "cell_type": "code",
   "execution_count": 43,
   "id": "2f456b3f",
   "metadata": {},
   "outputs": [
    {
     "data": {
      "text/plain": [
       "array([[0.  , 1.  ],\n",
       "       [0.68, 0.32]])"
      ]
     },
     "execution_count": 43,
     "metadata": {},
     "output_type": "execute_result"
    }
   ],
   "source": [
    "y_score[:2,:]"
   ]
  },
  {
   "cell_type": "code",
   "execution_count": 44,
   "id": "8c935fb9",
   "metadata": {},
   "outputs": [],
   "source": [
    "from sklearn.metrics import roc_curve"
   ]
  },
  {
   "cell_type": "code",
   "execution_count": 45,
   "id": "fab3685a",
   "metadata": {},
   "outputs": [],
   "source": [
    "fpr, tpr, thres = roc_curve(y_test, y_score[:, 1]) # y_score는 Positive prediction의 확률을 입력으로 받는다. "
   ]
  },
  {
   "cell_type": "code",
   "execution_count": 46,
   "id": "fb8f1b83",
   "metadata": {},
   "outputs": [],
   "source": [
    "import matplotlib as mpl\n",
    "import matplotlib.pyplot as plt"
   ]
  },
  {
   "cell_type": "code",
   "execution_count": 47,
   "id": "33e85c09",
   "metadata": {},
   "outputs": [
    {
     "data": {
      "text/plain": [
       "[<matplotlib.lines.Line2D at 0x1f20198a2e0>]"
      ]
     },
     "execution_count": 47,
     "metadata": {},
     "output_type": "execute_result"
    },
    {
     "data": {
      "image/png": "[encoded data removed]",
      "text/plain": [
       "<Figure size 432x288 with 1 Axes>"
      ]
     },
     "metadata": {
      "needs_background": "light"
     },
     "output_type": "display_data"
    }
   ],
   "source": [
    "plt.plot(fpr, tpr)"
   ]
  },
  {
   "cell_type": "code",
   "execution_count": 48,
   "id": "9cc6bc7b",
   "metadata": {},
   "outputs": [
    {
     "data": {
      "text/plain": [
       "Text(0, 0.5, 'TPR')"
      ]
     },
     "execution_count": 48,
     "metadata": {},
     "output_type": "execute_result"
    },
    {
     "data": {
      "image/png": "[encoded data removed]",
      "text/plain": [
       "<Figure size 432x288 with 1 Axes>"
      ]
     },
     "metadata": {
      "needs_background": "light"
     },
     "output_type": "display_data"
    }
   ],
   "source": [
    "plt.xlabel(\"FPR\")\n",
    "plt.ylabel(\"TPR\")"
   ]
  },
  {
   "cell_type": "code",
   "execution_count": 49,
   "id": "4d337c5e",
   "metadata": {},
   "outputs": [
    {
     "data": {
      "text/plain": [
       "[<matplotlib.lines.Line2D at 0x1f20313b370>]"
      ]
     },
     "execution_count": 49,
     "metadata": {},
     "output_type": "execute_result"
    },
    {
     "data": {
      "image/png": "[encoded data removed]",
      "text/plain": [
       "<Figure size 432x288 with 1 Axes>"
      ]
     },
     "metadata": {
      "needs_background": "light"
     },
     "output_type": "display_data"
    }
   ],
   "source": [
    "plt.plot(fpr, tpr)"
   ]
  },
  {
   "cell_type": "code",
   "execution_count": 50,
   "id": "24417730",
   "metadata": {},
   "outputs": [
    {
     "name": "stdout",
     "output_type": "stream",
     "text": [
      "[2.         1.         0.995      0.99       0.981      0.98\n",
      " 0.9725     0.97       0.96       0.95       0.94       0.93\n",
      " 0.924      0.92       0.91       0.9        0.89       0.88\n",
      " 0.87       0.866      0.86       0.85       0.84       0.83\n",
      " 0.82       0.81       0.806      0.8        0.79       0.78\n",
      " 0.77       0.76       0.75       0.74       0.73       0.72\n",
      " 0.71       0.7        0.69       0.6875     0.68       0.67\n",
      " 0.66       0.65       0.64       0.63       0.6        0.59566667\n",
      " 0.53       0.52       0.51       0.5        0.48       0.41\n",
      " 0.37       0.35       0.33       0.32       0.27       0.22\n",
      " 0.2        0.17       0.15       0.01      ]\n"
     ]
    }
   ],
   "source": [
    "print(thres)"
   ]
  },
  {
   "cell_type": "markdown",
   "id": "4ae93be9",
   "metadata": {},
   "source": [
    "### Area under the curve를 계산해보자!"
   ]
  },
  {
   "cell_type": "code",
   "execution_count": 51,
   "id": "90b8d00e",
   "metadata": {},
   "outputs": [],
   "source": [
    "from sklearn.metrics import roc_auc_score"
   ]
  },
  {
   "cell_type": "code",
   "execution_count": 52,
   "id": "30ba086f",
   "metadata": {},
   "outputs": [
    {
     "data": {
      "text/plain": [
       "0.8677908113391986"
      ]
     },
     "execution_count": 52,
     "metadata": {},
     "output_type": "execute_result"
    }
   ],
   "source": [
    "roc_auc_score(y_test, y_score[:, 1])"
   ]
  },
  {
   "cell_type": "markdown",
   "id": "7746addf",
   "metadata": {},
   "source": [
    "## Hyperparameter를 바꾸면 성능이 어떻게 변화할까? \n",
    "* n_estimators = 200으로 바꾸어 보자. "
   ]
  },
  {
   "cell_type": "code",
   "execution_count": 95,
   "id": "41533b32",
   "metadata": {},
   "outputs": [],
   "source": [
    "model2 = RFC(n_estimators = 200, max_depth=7)"
   ]
  },
  {
   "cell_type": "code",
   "execution_count": 96,
   "id": "a7ab43b8",
   "metadata": {},
   "outputs": [
    {
     "data": {
      "text/plain": [
       "RandomForestClassifier(max_depth=7, n_estimators=200)"
      ]
     },
     "execution_count": 96,
     "metadata": {},
     "output_type": "execute_result"
    }
   ],
   "source": [
    "model2.fit(X_train, y_train)"
   ]
  },
  {
   "cell_type": "code",
   "execution_count": 97,
   "id": "589ed829",
   "metadata": {},
   "outputs": [],
   "source": [
    "y_pred = model2.predict(X_test)"
   ]
  },
  {
   "cell_type": "code",
   "execution_count": 98,
   "id": "e06bd413",
   "metadata": {},
   "outputs": [
    {
     "data": {
      "text/plain": [
       "0.9469273743016761"
      ]
     },
     "execution_count": 98,
     "metadata": {},
     "output_type": "execute_result"
    }
   ],
   "source": [
    "f1_score(y_test, y_pred)"
   ]
  },
  {
   "cell_type": "code",
   "execution_count": 99,
   "id": "95479535",
   "metadata": {},
   "outputs": [],
   "source": [
    "y_score2 = model2.predict_proba(X_test)"
   ]
  },
  {
   "cell_type": "code",
   "execution_count": 100,
   "id": "91d84ab4",
   "metadata": {
    "scrolled": true,
    "tags": []
   },
   "outputs": [
    {
     "data": {
      "text/plain": [
       "array([[0.02903605, 0.97096395],\n",
       "       [0.45826315, 0.54173685],\n",
       "       [0.03623872, 0.96376128],\n",
       "       [0.24628977, 0.75371023],\n",
       "       [0.32815523, 0.67184477],\n",
       "       [0.01606365, 0.98393635],\n",
       "       [0.41175375, 0.58824625],\n",
       "       [0.09853453, 0.90146547],\n",
       "       [0.01909038, 0.98090962],\n",
       "       [0.03412728, 0.96587272],\n",
       "       [0.12753214, 0.87246786],\n",
       "       [0.2287018 , 0.7712982 ],\n",
       "       [0.12341329, 0.87658671],\n",
       "       [0.38185975, 0.61814025],\n",
       "       [0.044036  , 0.955964  ],\n",
       "       [0.04674327, 0.95325673],\n",
       "       [0.12812262, 0.87187738],\n",
       "       [0.01648428, 0.98351572],\n",
       "       [0.08400049, 0.91599951],\n",
       "       [0.06084201, 0.93915799],\n",
       "       [0.28709499, 0.71290501],\n",
       "       [0.1973815 , 0.8026185 ],\n",
       "       [0.01982835, 0.98017165],\n",
       "       [0.35114442, 0.64885558],\n",
       "       [0.13956862, 0.86043138],\n",
       "       [0.17382865, 0.82617135],\n",
       "       [0.68792225, 0.31207775],\n",
       "       [0.07111191, 0.92888809],\n",
       "       [0.01687931, 0.98312069],\n",
       "       [0.1553421 , 0.8446579 ],\n",
       "       [0.04097295, 0.95902705],\n",
       "       [0.01617239, 0.98382761],\n",
       "       [0.07714074, 0.92285926],\n",
       "       [0.07329853, 0.92670147],\n",
       "       [0.35526388, 0.64473612],\n",
       "       [0.06425759, 0.93574241],\n",
       "       [0.01688212, 0.98311788],\n",
       "       [0.02728135, 0.97271865],\n",
       "       [0.0895194 , 0.9104806 ],\n",
       "       [0.1561621 , 0.8438379 ],\n",
       "       [0.07814941, 0.92185059],\n",
       "       [0.13258965, 0.86741035],\n",
       "       [0.01924626, 0.98075374],\n",
       "       [0.15706873, 0.84293127],\n",
       "       [0.04907805, 0.95092195],\n",
       "       [0.02297122, 0.97702878],\n",
       "       [0.07302791, 0.92697209],\n",
       "       [0.03122294, 0.96877706],\n",
       "       [0.11164757, 0.88835243],\n",
       "       [0.10079972, 0.89920028],\n",
       "       [0.03218083, 0.96781917],\n",
       "       [0.01664316, 0.98335684],\n",
       "       [0.11171376, 0.88828624],\n",
       "       [0.12986614, 0.87013386],\n",
       "       [0.12144167, 0.87855833],\n",
       "       [0.09686527, 0.90313473],\n",
       "       [0.09348555, 0.90651445],\n",
       "       [0.0716037 , 0.9283963 ],\n",
       "       [0.14826883, 0.85173117],\n",
       "       [0.040399  , 0.959601  ],\n",
       "       [0.07618987, 0.92381013],\n",
       "       [0.11553656, 0.88446344],\n",
       "       [0.11461261, 0.88538739],\n",
       "       [0.08872539, 0.91127461],\n",
       "       [0.13151822, 0.86848178],\n",
       "       [0.10911758, 0.89088242],\n",
       "       [0.08899601, 0.91100399],\n",
       "       [0.06899341, 0.93100659],\n",
       "       [0.04238439, 0.95761561],\n",
       "       [0.01655576, 0.98344424],\n",
       "       [0.02534622, 0.97465378],\n",
       "       [0.02200083, 0.97799917],\n",
       "       [0.03910089, 0.96089911],\n",
       "       [0.15394246, 0.84605754],\n",
       "       [0.02256421, 0.97743579],\n",
       "       [0.06859049, 0.93140951],\n",
       "       [0.04558959, 0.95441041],\n",
       "       [0.08633198, 0.91366802],\n",
       "       [0.64386399, 0.35613601],\n",
       "       [0.22031095, 0.77968905],\n",
       "       [0.02867002, 0.97132998],\n",
       "       [0.03913883, 0.96086117],\n",
       "       [0.10335427, 0.89664573],\n",
       "       [0.03882747, 0.96117253],\n",
       "       [0.14352629, 0.85647371],\n",
       "       [0.03683298, 0.96316702],\n",
       "       [0.09677008, 0.90322992],\n",
       "       [0.14393059, 0.85606941],\n",
       "       [0.0329609 , 0.9670391 ],\n",
       "       [0.01757024, 0.98242976],\n",
       "       [0.04227268, 0.95772732],\n",
       "       [0.14981121, 0.85018879],\n",
       "       [0.03099009, 0.96900991],\n",
       "       [0.05610235, 0.94389765],\n",
       "       [0.0592314 , 0.9407686 ],\n",
       "       [0.12509311, 0.87490689],\n",
       "       [0.08513034, 0.91486966],\n",
       "       [0.03391992, 0.96608008],\n",
       "       [0.01808005, 0.98191995],\n",
       "       [0.19468399, 0.80531601],\n",
       "       [0.18745504, 0.81254496],\n",
       "       [0.06080889, 0.93919111],\n",
       "       [0.11373824, 0.88626176],\n",
       "       [0.23226557, 0.76773443],\n",
       "       [0.0329609 , 0.9670391 ],\n",
       "       [0.53466167, 0.46533833],\n",
       "       [0.14411507, 0.85588493],\n",
       "       [0.14760813, 0.85239187],\n",
       "       [0.08393916, 0.91606084],\n",
       "       [0.10585841, 0.89414159],\n",
       "       [0.87788794, 0.12211206],\n",
       "       [0.15251697, 0.84748303],\n",
       "       [0.07404525, 0.92595475],\n",
       "       [0.09959464, 0.90040536],\n",
       "       [0.03517341, 0.96482659],\n",
       "       [0.05880195, 0.94119805],\n",
       "       [0.13227786, 0.86772214],\n",
       "       [0.13351455, 0.86648545],\n",
       "       [0.07824579, 0.92175421],\n",
       "       [0.14848475, 0.85151525],\n",
       "       [0.14041503, 0.85958497],\n",
       "       [0.08025808, 0.91974192],\n",
       "       [0.03750406, 0.96249594],\n",
       "       [0.10429324, 0.89570676],\n",
       "       [0.18350725, 0.81649275],\n",
       "       [0.0296076 , 0.9703924 ],\n",
       "       [0.24601495, 0.75398505],\n",
       "       [0.06955845, 0.93044155],\n",
       "       [0.19771402, 0.80228598],\n",
       "       [0.07758423, 0.92241577],\n",
       "       [0.04044977, 0.95955023],\n",
       "       [0.17056802, 0.82943198],\n",
       "       [0.14527612, 0.85472388],\n",
       "       [0.72126896, 0.27873104],\n",
       "       [0.2214299 , 0.7785701 ],\n",
       "       [0.3082257 , 0.6917743 ],\n",
       "       [0.03513393, 0.96486607],\n",
       "       [0.17123413, 0.82876587],\n",
       "       [0.11844238, 0.88155762],\n",
       "       [0.12638711, 0.87361289],\n",
       "       [0.06780529, 0.93219471],\n",
       "       [0.08030584, 0.91969416],\n",
       "       [0.13356927, 0.86643073],\n",
       "       [0.09499938, 0.90500062],\n",
       "       [0.08018025, 0.91981975],\n",
       "       [0.02528594, 0.97471406],\n",
       "       [0.01858404, 0.98141596],\n",
       "       [0.08427993, 0.91572007],\n",
       "       [0.08259403, 0.91740597],\n",
       "       [0.02224901, 0.97775099],\n",
       "       [0.24754422, 0.75245578],\n",
       "       [0.03276909, 0.96723091],\n",
       "       [0.01892862, 0.98107138],\n",
       "       [0.02358072, 0.97641928],\n",
       "       [0.57365833, 0.42634167],\n",
       "       [0.14534723, 0.85465277],\n",
       "       [0.11400087, 0.88599913],\n",
       "       [0.01816014, 0.98183986],\n",
       "       [0.09306103, 0.90693897],\n",
       "       [0.01623283, 0.98376717],\n",
       "       [0.01942026, 0.98057974],\n",
       "       [0.02256421, 0.97743579],\n",
       "       [0.02169431, 0.97830569],\n",
       "       [0.01648474, 0.98351526],\n",
       "       [0.075775  , 0.924225  ],\n",
       "       [0.01742137, 0.98257863],\n",
       "       [0.06356195, 0.93643805],\n",
       "       [0.04280928, 0.95719072],\n",
       "       [0.06629107, 0.93370893],\n",
       "       [0.13060524, 0.86939476],\n",
       "       [0.02739535, 0.97260465],\n",
       "       [0.10233596, 0.89766404],\n",
       "       [0.12361226, 0.87638774],\n",
       "       [0.07876048, 0.92123952],\n",
       "       [0.01985398, 0.98014602],\n",
       "       [0.11047788, 0.88952212],\n",
       "       [0.12096871, 0.87903129],\n",
       "       [0.31210145, 0.68789855],\n",
       "       [0.26464092, 0.73535908],\n",
       "       [0.08850537, 0.91149463],\n",
       "       [0.0212801 , 0.9787199 ],\n",
       "       [0.01802003, 0.98197997],\n",
       "       [0.01820528, 0.98179472],\n",
       "       [0.22235546, 0.77764454],\n",
       "       [0.17603308, 0.82396692],\n",
       "       [0.02627261, 0.97372739],\n",
       "       [0.25001715, 0.74998285],\n",
       "       [0.03008563, 0.96991437],\n",
       "       [0.0736704 , 0.9263296 ],\n",
       "       [0.06283249, 0.93716751],\n",
       "       [0.01949773, 0.98050227],\n",
       "       [0.0604464 , 0.9395536 ],\n",
       "       [0.25508784, 0.74491216],\n",
       "       [0.07328769, 0.92671231],\n",
       "       [0.01631257, 0.98368743],\n",
       "       [0.02845243, 0.97154757],\n",
       "       [0.26185036, 0.73814964],\n",
       "       [0.09620043, 0.90379957],\n",
       "       [0.08418885, 0.91581115],\n",
       "       [0.04703318, 0.95296682],\n",
       "       [0.15807485, 0.84192515],\n",
       "       [0.01650254, 0.98349746],\n",
       "       [0.32849335, 0.67150665],\n",
       "       [0.16890041, 0.83109959],\n",
       "       [0.0169922 , 0.9830078 ],\n",
       "       [0.06410535, 0.93589465],\n",
       "       [0.08137715, 0.91862285],\n",
       "       [0.23425394, 0.76574606],\n",
       "       [0.0724569 , 0.9275431 ],\n",
       "       [0.25530046, 0.74469954],\n",
       "       [0.02409493, 0.97590507],\n",
       "       [0.01742137, 0.98257863],\n",
       "       [0.09621687, 0.90378313],\n",
       "       [0.09008631, 0.90991369],\n",
       "       [0.04549588, 0.95450412],\n",
       "       [0.20536838, 0.79463162],\n",
       "       [0.08342447, 0.91657553],\n",
       "       [0.07771849, 0.92228151],\n",
       "       [0.36951571, 0.63048429],\n",
       "       [0.01664316, 0.98335684],\n",
       "       [0.13517932, 0.86482068],\n",
       "       [0.28676152, 0.71323848],\n",
       "       [0.07875648, 0.92124352],\n",
       "       [0.03934215, 0.96065785],\n",
       "       [0.07944324, 0.92055676],\n",
       "       [0.07179476, 0.92820524],\n",
       "       [0.08635122, 0.91364878],\n",
       "       [0.47143818, 0.52856182],\n",
       "       [0.39552542, 0.60447458],\n",
       "       [0.08546666, 0.91453334],\n",
       "       [0.10613169, 0.89386831],\n",
       "       [0.07024151, 0.92975849],\n",
       "       [0.01638105, 0.98361895],\n",
       "       [0.31780902, 0.68219098],\n",
       "       [0.44383771, 0.55616229],\n",
       "       [0.17181601, 0.82818399],\n",
       "       [0.0215828 , 0.9784172 ],\n",
       "       [0.47195517, 0.52804483],\n",
       "       [0.19712578, 0.80287422],\n",
       "       [0.26520004, 0.73479996],\n",
       "       [0.08992034, 0.91007966],\n",
       "       [0.14319322, 0.85680678],\n",
       "       [0.0296076 , 0.9703924 ],\n",
       "       [0.06480589, 0.93519411],\n",
       "       [0.17880334, 0.82119666],\n",
       "       [0.10745421, 0.89254579],\n",
       "       [0.05152689, 0.94847311],\n",
       "       [0.08066382, 0.91933618],\n",
       "       [0.10383794, 0.89616206],\n",
       "       [0.28862975, 0.71137025],\n",
       "       [0.07635005, 0.92364995],\n",
       "       [0.14764024, 0.85235976],\n",
       "       [0.02934748, 0.97065252],\n",
       "       [0.03117999, 0.96882001],\n",
       "       [0.06737241, 0.93262759],\n",
       "       [0.02106095, 0.97893905],\n",
       "       [0.03998745, 0.96001255],\n",
       "       [0.11964786, 0.88035214],\n",
       "       [0.04194571, 0.95805429],\n",
       "       [0.03225898, 0.96774102],\n",
       "       [0.09535705, 0.90464295],\n",
       "       [0.08066382, 0.91933618],\n",
       "       [0.06305123, 0.93694877],\n",
       "       [0.08561052, 0.91438948],\n",
       "       [0.08966189, 0.91033811],\n",
       "       [0.29837781, 0.70162219],\n",
       "       [0.08329052, 0.91670948],\n",
       "       [0.09038377, 0.90961623],\n",
       "       [0.05465398, 0.94534602],\n",
       "       [0.08136829, 0.91863171],\n",
       "       [0.07981515, 0.92018485],\n",
       "       [0.02302675, 0.97697325],\n",
       "       [0.10156119, 0.89843881],\n",
       "       [0.04366993, 0.95633007],\n",
       "       [0.07237315, 0.92762685],\n",
       "       [0.06789357, 0.93210643],\n",
       "       [0.16869746, 0.83130254],\n",
       "       [0.19096834, 0.80903166],\n",
       "       [0.15999506, 0.84000494],\n",
       "       [0.06792638, 0.93207362],\n",
       "       [0.1288964 , 0.8711036 ],\n",
       "       [0.07357437, 0.92642563],\n",
       "       [0.15995648, 0.84004352],\n",
       "       [0.07799236, 0.92200764],\n",
       "       [0.07859497, 0.92140503],\n",
       "       [0.02497284, 0.97502716],\n",
       "       [0.15229877, 0.84770123],\n",
       "       [0.08323804, 0.91676196],\n",
       "       [0.05653809, 0.94346191],\n",
       "       [0.20603308, 0.79396692],\n",
       "       [0.11182966, 0.88817034],\n",
       "       [0.12100726, 0.87899274],\n",
       "       [0.01657425, 0.98342575],\n",
       "       [0.19301185, 0.80698815],\n",
       "       [0.03609224, 0.96390776],\n",
       "       [0.13891192, 0.86108808],\n",
       "       [0.03062175, 0.96937825],\n",
       "       [0.10124195, 0.89875805],\n",
       "       [0.01982835, 0.98017165],\n",
       "       [0.02038806, 0.97961194],\n",
       "       [0.04885818, 0.95114182],\n",
       "       [0.01936384, 0.98063616],\n",
       "       [0.06399943, 0.93600057],\n",
       "       [0.9287292 , 0.0712708 ],\n",
       "       [0.12593066, 0.87406934],\n",
       "       [0.06611037, 0.93388963],\n",
       "       [0.06019898, 0.93980102],\n",
       "       [0.16870175, 0.83129825],\n",
       "       [0.04915014, 0.95084986],\n",
       "       [0.02932009, 0.97067991],\n",
       "       [0.0848058 , 0.9151942 ],\n",
       "       [0.12216451, 0.87783549],\n",
       "       [0.25744619, 0.74255381],\n",
       "       [0.06305123, 0.93694877],\n",
       "       [0.06290393, 0.93709607],\n",
       "       [0.03216972, 0.96783028],\n",
       "       [0.14448149, 0.85551851],\n",
       "       [0.01848578, 0.98151422],\n",
       "       [0.06511085, 0.93488915],\n",
       "       [0.16428228, 0.83571772],\n",
       "       [0.01769662, 0.98230338],\n",
       "       [0.01945629, 0.98054371],\n",
       "       [0.0385537 , 0.9614463 ],\n",
       "       [0.01670643, 0.98329357],\n",
       "       [0.12772471, 0.87227529],\n",
       "       [0.05013974, 0.94986026],\n",
       "       [0.1553733 , 0.8446267 ],\n",
       "       [0.28136408, 0.71863592],\n",
       "       [0.01819728, 0.98180272],\n",
       "       [0.01728729, 0.98271271],\n",
       "       [0.21235371, 0.78764629],\n",
       "       [0.11648048, 0.88351952],\n",
       "       [0.18601155, 0.81398845],\n",
       "       [0.01814222, 0.98185778],\n",
       "       [0.0939493 , 0.9060507 ],\n",
       "       [0.19771402, 0.80228598],\n",
       "       [0.01708988, 0.98291012],\n",
       "       [0.01775271, 0.98224729],\n",
       "       [0.05345246, 0.94654754],\n",
       "       [0.01762568, 0.98237432],\n",
       "       [0.1272721 , 0.8727279 ],\n",
       "       [0.12189122, 0.87810878],\n",
       "       [0.25114054, 0.74885946],\n",
       "       [0.07871317, 0.92128683],\n",
       "       [0.12694497, 0.87305503],\n",
       "       [0.14510584, 0.85489416],\n",
       "       [0.1703762 , 0.8296238 ],\n",
       "       [0.05392008, 0.94607992],\n",
       "       [0.08368362, 0.91631638],\n",
       "       [0.263615  , 0.736385  ],\n",
       "       [0.14270008, 0.85729992],\n",
       "       [0.10091639, 0.89908361],\n",
       "       [0.13054953, 0.86945047],\n",
       "       [0.19320914, 0.80679086],\n",
       "       [0.11918163, 0.88081837],\n",
       "       [0.16784414, 0.83215586],\n",
       "       [0.17189112, 0.82810888],\n",
       "       [0.0709936 , 0.9290064 ],\n",
       "       [0.02250713, 0.97749287],\n",
       "       [0.17575232, 0.82424768],\n",
       "       [0.08374603, 0.91625397],\n",
       "       [0.02969613, 0.97030387],\n",
       "       [0.10674734, 0.89325266],\n",
       "       [0.06863363, 0.93136637],\n",
       "       [0.10944912, 0.89055088],\n",
       "       [0.08867595, 0.91132405],\n",
       "       [0.24736136, 0.75263864],\n",
       "       [0.14506266, 0.85493734],\n",
       "       [0.16796018, 0.83203982],\n",
       "       [0.16607607, 0.83392393],\n",
       "       [0.04327067, 0.95672933],\n",
       "       [0.18751883, 0.81248117],\n",
       "       [0.03829956, 0.96170044],\n",
       "       [0.06493896, 0.93506104],\n",
       "       [0.02766932, 0.97233068],\n",
       "       [0.68153923, 0.31846077],\n",
       "       [0.09734551, 0.90265449],\n",
       "       [0.09114916, 0.90885084],\n",
       "       [0.03680965, 0.96319035],\n",
       "       [0.08255081, 0.91744919],\n",
       "       [0.05852906, 0.94147094],\n",
       "       [0.13003687, 0.86996313],\n",
       "       [0.41131892, 0.58868108]])"
      ]
     },
     "execution_count": 100,
     "metadata": {},
     "output_type": "execute_result"
    }
   ],
   "source": [
    "y_score2"
   ]
  },
  {
   "cell_type": "code",
   "execution_count": 101,
   "id": "4ed939ae",
   "metadata": {},
   "outputs": [
    {
     "data": {
      "text/plain": [
       "0.8581901968998743"
      ]
     },
     "execution_count": 101,
     "metadata": {},
     "output_type": "execute_result"
    }
   ],
   "source": [
    "roc_auc_score(y_test, y_score2[:,1])"
   ]
  }
 ],
 "metadata": {
  "kernelspec": {
   "display_name": "Python 3 (ipykernel)",
   "language": "python",
   "name": "python3"
  },
  "language_info": {
   "codemirror_mode": {
    "name": "ipython",
    "version": 3
   },
   "file_extension": ".py",
   "mimetype": "text/x-python",
   "name": "python",
   "nbconvert_exporter": "python",
   "pygments_lexer": "ipython3",
   "version": "3.9.12"
  }
 },
 "nbformat": 4,
 "nbformat_minor": 5
}
